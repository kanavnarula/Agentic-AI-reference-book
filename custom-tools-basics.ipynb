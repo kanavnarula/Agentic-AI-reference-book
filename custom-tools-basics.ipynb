{
 "cells": [
  {
   "cell_type": "code",
   "execution_count": 8,
   "id": "e91fa940",
   "metadata": {},
   "outputs": [],
   "source": [
    "from dotenv import load_dotenv\n",
    "import os\n",
    "from langchain_openai import ChatOpenAI\n",
    "from langchain.agents import tool"
   ]
  },
  {
   "cell_type": "code",
   "execution_count": 4,
   "id": "1678fbfa",
   "metadata": {},
   "outputs": [
    {
     "data": {
      "text/plain": [
       "True"
      ]
     },
     "execution_count": 4,
     "metadata": {},
     "output_type": "execute_result"
    }
   ],
   "source": [
    "load_dotenv()"
   ]
  },
  {
   "cell_type": "code",
   "execution_count": 10,
   "id": "69d27a62",
   "metadata": {},
   "outputs": [],
   "source": [
    "@tool\n",
    "def call_llm_model(input_text):\n",
    "    \"\"\"Call the LLM model with the provided input text.\"\"\"\n",
    "    model = ChatOpenAI(model=\"gpt-4o\", temperature=0)\n",
    "    return model.invoke(input_text).content\n",
    "    "
   ]
  },
  {
   "cell_type": "code",
   "execution_count": 11,
   "id": "0a95fd64",
   "metadata": {},
   "outputs": [
    {
     "data": {
      "text/plain": [
       "'call_llm_model'"
      ]
     },
     "execution_count": 11,
     "metadata": {},
     "output_type": "execute_result"
    }
   ],
   "source": [
    "call_llm_model.name"
   ]
  },
  {
   "cell_type": "code",
   "execution_count": 12,
   "id": "05c2073d",
   "metadata": {},
   "outputs": [
    {
     "data": {
      "text/plain": [
       "'Call the LLM model with the provided input text.'"
      ]
     },
     "execution_count": 12,
     "metadata": {},
     "output_type": "execute_result"
    }
   ],
   "source": [
    "call_llm_model.description"
   ]
  },
  {
   "cell_type": "code",
   "execution_count": 13,
   "id": "950b347b",
   "metadata": {},
   "outputs": [
    {
     "data": {
      "text/plain": [
       "{'input_text': {'title': 'Input Text'}}"
      ]
     },
     "execution_count": 13,
     "metadata": {},
     "output_type": "execute_result"
    }
   ],
   "source": [
    "call_llm_model.args"
   ]
  },
  {
   "cell_type": "code",
   "execution_count": 14,
   "id": "89f36478",
   "metadata": {},
   "outputs": [
    {
     "data": {
      "text/plain": [
       "'LangChain is a framework designed to facilitate the development of applications powered by large language models (LLMs). It provides a suite of tools and abstractions that help developers build complex applications that can leverage the capabilities of LLMs for a variety of tasks, such as natural language understanding, text generation, and more. LangChain is particularly useful for creating applications that require interaction with LLMs in a structured and efficient manner.\\n\\nKey features of LangChain include:\\n\\n1. **Prompt Management**: LangChain offers tools to manage and optimize prompts, which are the inputs given to language models to elicit specific responses. This helps in crafting effective prompts that can improve the performance of the model.\\n\\n2. **Chaining**: The framework allows developers to create chains of operations, where the output of one operation can be used as the input for another. This is useful for building complex workflows that involve multiple steps of processing and decision-making.\\n\\n3. **Integration**: LangChain supports integration with various LLM providers and APIs, making it easier to switch between different models or use multiple models in a single application.\\n\\n4. **Memory Management**: It provides mechanisms to manage state and memory across interactions, which is crucial for applications that require context retention over multiple exchanges with the model.\\n\\n5. **Tooling and Utilities**: LangChain includes a variety of utilities and tools that simplify common tasks in LLM application development, such as data preprocessing, result parsing, and more.\\n\\nOverall, LangChain aims to streamline the process of building sophisticated applications that can harness the power of large language models, making it accessible to developers who want to incorporate advanced natural language processing capabilities into their projects.'"
      ]
     },
     "execution_count": 14,
     "metadata": {},
     "output_type": "execute_result"
    }
   ],
   "source": [
    "call_llm_model.invoke(\"What is Langchain?\")"
   ]
  },
  {
   "cell_type": "code",
   "execution_count": 15,
   "id": "f955a6ad",
   "metadata": {},
   "outputs": [
    {
     "data": {
      "text/plain": [
       "'LangChain is a framework designed to facilitate the development of applications powered by large language models (LLMs). It provides a suite of tools and abstractions that simplify the integration of LLMs into various applications, enabling developers to build more sophisticated and capable systems. LangChain is particularly useful for creating applications that require complex reasoning, dynamic interaction, and integration with external data sources or APIs.\\n\\nKey features of LangChain include:\\n\\n1. **Prompt Management**: LangChain offers utilities for managing and optimizing prompts, which are crucial for guiding the behavior of language models.\\n\\n2. **Chains**: These are sequences of calls that can include LLMs, other APIs, or custom logic, allowing developers to create complex workflows.\\n\\n3. **Agents**: LangChain supports the creation of agents that can make decisions about which actions to take, such as which tools to use or how to process information.\\n\\n4. **Memory**: The framework provides mechanisms for maintaining state or context across interactions, which is essential for applications that require a memory of past interactions.\\n\\n5. **Integration**: LangChain is designed to work seamlessly with various data sources, APIs, and other tools, making it easier to build applications that leverage external information.\\n\\n6. **Evaluation**: It includes tools for evaluating the performance and behavior of language models within the context of the application.\\n\\nLangChain is particularly popular in the development of chatbots, virtual assistants, and other interactive AI applications where the ability to manage complex interactions and integrate with external systems is crucial.'"
      ]
     },
     "execution_count": 15,
     "metadata": {},
     "output_type": "execute_result"
    }
   ],
   "source": [
    "call_llm_model.invoke({\"input_text\": \"What is Langchain?\"})"
   ]
  }
 ],
 "metadata": {
  "kernelspec": {
   "display_name": "venv-3-10 (3.10.15)",
   "language": "python",
   "name": "python3"
  },
  "language_info": {
   "codemirror_mode": {
    "name": "ipython",
    "version": 3
   },
   "file_extension": ".py",
   "mimetype": "text/x-python",
   "name": "python",
   "nbconvert_exporter": "python",
   "pygments_lexer": "ipython3",
   "version": "3.10.15"
  }
 },
 "nbformat": 4,
 "nbformat_minor": 5
}
