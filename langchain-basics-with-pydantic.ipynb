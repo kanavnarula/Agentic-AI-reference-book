{
 "cells": [
  {
   "cell_type": "code",
   "execution_count": 5,
   "id": "adefb3eb",
   "metadata": {},
   "outputs": [],
   "source": [
    "import os\n",
    "from dotenv import load_dotenv\n",
    "from langchain_openai import ChatOpenAI\n",
    "from langchain_groq import ChatGroq\n",
    "from langchain.prompts import ChatPromptTemplate, BasePromptTemplate, PromptTemplate\n",
    "from langchain_core.output_parsers import StrOutputParser, JsonOutputParser\n",
    "from langchain.output_parsers.xml import XMLOutputParser\n",
    "from pydantic import BaseModel, Field"
   ]
  },
  {
   "cell_type": "code",
   "execution_count": 3,
   "id": "0548bf51",
   "metadata": {},
   "outputs": [
    {
     "data": {
      "text/plain": [
       "True"
      ]
     },
     "execution_count": 3,
     "metadata": {},
     "output_type": "execute_result"
    }
   ],
   "source": [
    "load_dotenv()"
   ]
  },
  {
   "cell_type": "code",
   "execution_count": 25,
   "id": "775c68de",
   "metadata": {},
   "outputs": [],
   "source": [
    "class CustomProduct(BaseModel):\n",
    "    name: str = Field(description=\"The name of the product\")\n",
    "    price: float = Field(description=\"The price of the product\")\n",
    "    description: str = Field(description=\"A brief description of the product\")"
   ]
  },
  {
   "cell_type": "code",
   "execution_count": 27,
   "id": "93d01213",
   "metadata": {},
   "outputs": [],
   "source": [
    "chat_openai = ChatOpenAI(model=\"gpt-4o\")\n",
    "\n",
    "prompt = ChatPromptTemplate.from_messages(\n",
    "    [\n",
    "        (\"system\", \"You are a helpful assistant. You will answer the user's question about a product in the format defined by pydantic class.\"),\n",
    "        (\"user\", \"{query}\"),\n",
    "    ]\n",
    ")\n",
    "\n",
    "output_parser = JsonOutputParser(pydantic_object=CustomProduct)"
   ]
  },
  {
   "cell_type": "code",
   "execution_count": 28,
   "id": "649419f8",
   "metadata": {},
   "outputs": [
    {
     "data": {
      "text/plain": [
       "ChatPromptTemplate(input_variables=['query'], input_types={}, partial_variables={}, messages=[SystemMessagePromptTemplate(prompt=PromptTemplate(input_variables=[], input_types={}, partial_variables={}, template=\"You are a helpful assistant. You will answer the user's question about a product in the format defined by pydantic class.\"), additional_kwargs={}), HumanMessagePromptTemplate(prompt=PromptTemplate(input_variables=['query'], input_types={}, partial_variables={}, template='{query}'), additional_kwargs={})])\n",
       "| ChatOpenAI(client=<openai.resources.chat.completions.completions.Completions object at 0x10aa68b00>, async_client=<openai.resources.chat.completions.completions.AsyncCompletions object at 0x10aa6a2c0>, root_client=<openai.OpenAI object at 0x10aa69220>, root_async_client=<openai.AsyncOpenAI object at 0x10aa690f0>, model_name='gpt-4o', model_kwargs={}, openai_api_key=SecretStr('**********'))\n",
       "| JsonOutputParser(pydantic_object=<class '__main__.CustomProduct'>)"
      ]
     },
     "execution_count": 28,
     "metadata": {},
     "output_type": "execute_result"
    }
   ],
   "source": [
    "chain = prompt | chat_openai | output_parser\n",
    "chain"
   ]
  },
  {
   "cell_type": "code",
   "execution_count": 29,
   "id": "06d8eb2d",
   "metadata": {},
   "outputs": [],
   "source": [
    "response_json = chain.invoke(\"What is the price of Iphone 15?\")"
   ]
  },
  {
   "cell_type": "code",
   "execution_count": 30,
   "id": "da42812a",
   "metadata": {},
   "outputs": [
    {
     "name": "stdout",
     "output_type": "stream",
     "text": [
      "{'product': 'iPhone 15', 'price': 'Available from $799'}\n"
     ]
    }
   ],
   "source": [
    "print(response_json)"
   ]
  }
 ],
 "metadata": {
  "kernelspec": {
   "display_name": "lang-chain-graph",
   "language": "python",
   "name": "python3"
  },
  "language_info": {
   "codemirror_mode": {
    "name": "ipython",
    "version": 3
   },
   "file_extension": ".py",
   "mimetype": "text/x-python",
   "name": "python",
   "nbconvert_exporter": "python",
   "pygments_lexer": "ipython3",
   "version": "3.13.5"
  }
 },
 "nbformat": 4,
 "nbformat_minor": 5
}
