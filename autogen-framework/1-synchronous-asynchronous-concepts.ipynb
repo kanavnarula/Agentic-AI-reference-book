{
 "cells": [
  {
   "cell_type": "markdown",
   "id": "c670b6d0",
   "metadata": {},
   "source": [
    "## Synchronous Example"
   ]
  },
  {
   "cell_type": "code",
   "execution_count": 3,
   "id": "39c2dbdd",
   "metadata": {},
   "outputs": [
    {
     "name": "stdout",
     "output_type": "stream",
     "text": [
      "Hello I am the first function\n",
      "Hello I am the second function\n",
      "Time:8.01 minutes\n"
     ]
    }
   ],
   "source": [
    "import time\n",
    "def fun1():\n",
    "    print(\"Hello I am the first function\")\n",
    "    time.sleep(5)\n",
    "\n",
    "\n",
    "def fun2():\n",
    "    print(\"Hello I am the second function\")\n",
    "    time.sleep(3)\n",
    "\n",
    "\n",
    "def main():\n",
    "    start = time.time()\n",
    "    fun1()\n",
    "    fun2()\n",
    "    end = time.time()\n",
    "    print(f\"Time:{end-start:.2f} minutes\")\n",
    "\n",
    "main()"
   ]
  },
  {
   "cell_type": "markdown",
   "id": "d914c10c",
   "metadata": {},
   "source": [
    "## Asynchronous Example"
   ]
  },
  {
   "cell_type": "code",
   "execution_count": 6,
   "id": "f3549568",
   "metadata": {},
   "outputs": [
    {
     "name": "stdout",
     "output_type": "stream",
     "text": [
      "Hello I am the first function\n",
      "Hello I am the second function\n",
      "Time:5.00 minutes\n"
     ]
    }
   ],
   "source": [
    "import time\n",
    "import asyncio\n",
    "\n",
    "async def fun1():\n",
    "    print(\"Hello I am the first function\")\n",
    "    await asyncio.sleep(5)\n",
    "\n",
    "\n",
    "async def fun2():\n",
    "    print(\"Hello I am the second function\")\n",
    "    await asyncio.sleep(3)\n",
    "\n",
    "\n",
    "async def main():\n",
    "    start = time.time()\n",
    "    \n",
    "    results = await asyncio.gather(fun1(),fun2())\n",
    "\n",
    "    end = time.time()\n",
    "    print(f\"Time:{end-start:.2f} minutes\")\n",
    "\n",
    "await main()"
   ]
  }
 ],
 "metadata": {
  "kernelspec": {
   "display_name": "autogen-venv (3.12.7)",
   "language": "python",
   "name": "python3"
  },
  "language_info": {
   "codemirror_mode": {
    "name": "ipython",
    "version": 3
   },
   "file_extension": ".py",
   "mimetype": "text/x-python",
   "name": "python",
   "nbconvert_exporter": "python",
   "pygments_lexer": "ipython3",
   "version": "3.12.7"
  }
 },
 "nbformat": 4,
 "nbformat_minor": 5
}
