{
 "cells": [
  {
   "cell_type": "code",
   "execution_count": null,
   "id": "442a0a5b",
   "metadata": {},
   "outputs": [],
   "source": [
    "from autogen_agentchat.agents import AssistantAgent\n",
    "from autogen_ext.models.openai import OpenAIChatCompletionClient\n",
    "from dotenv import load_dotenv\n",
    "import os"
   ]
  },
  {
   "cell_type": "markdown",
   "id": "8df14db0",
   "metadata": {},
   "source": [
    "## OpenAI Model"
   ]
  },
  {
   "cell_type": "code",
   "execution_count": 2,
   "id": "5b273756",
   "metadata": {},
   "outputs": [],
   "source": [
    "api_key=os.getenv(\"OPENAI_API_KEY\")\n",
    "\n",
    "# Define a model client. You can use other model client that implements\n",
    "# the `ChatCompletionClient` interface.\n",
    "model_client = OpenAIChatCompletionClient(\n",
    "    model=\"gpt-4o\",\n",
    "    api_key=api_key,\n",
    ")"
   ]
  },
  {
   "cell_type": "code",
   "execution_count": 3,
   "id": "5ef8ac24",
   "metadata": {},
   "outputs": [],
   "source": [
    "agent = AssistantAgent(name=\"AIAssistant\", model_client=model_client)"
   ]
  },
  {
   "cell_type": "code",
   "execution_count": 4,
   "id": "9328340b",
   "metadata": {},
   "outputs": [],
   "source": [
    "result = await agent.run(task=\"What is Autogen\")"
   ]
  },
  {
   "cell_type": "code",
   "execution_count": 5,
   "id": "967d191b",
   "metadata": {},
   "outputs": [
    {
     "data": {
      "text/plain": [
       "TaskResult(messages=[TextMessage(id='46cbd875-62be-40e5-b78e-d3611326e4b7', source='user', models_usage=None, metadata={}, created_at=datetime.datetime(2025, 8, 11, 14, 36, 55, 737685, tzinfo=datetime.timezone.utc), content='What is Autogen', type='TextMessage'), TextMessage(id='5d6d3ae7-2838-4ec4-94a8-d59fa192d725', source='AIAssistant', models_usage=RequestUsage(prompt_tokens=40, completion_tokens=232), metadata={}, created_at=datetime.datetime(2025, 8, 11, 14, 37, 3, 729887, tzinfo=datetime.timezone.utc), content='\"Autogen\" can refer to a few different concepts depending on the context:\\n\\n1. **Autogen (Software)**: In the world of software development, AutoGen is a tool designed to simplify the creation and maintenance of programs that contain large amounts of repetitive text. For instance, it can be used to generate configuration files, source code, or documentation by automating repetitive tasks, thereby reducing errors and saving time.\\n\\n2. **Autogen (Biology or Medicine)**: In biology or medicine, particularly in studies involving growth or development, \"autogen\" might refer to processes or factors that are generated or arise from within an organism.\\n\\n3. **Autogen (Energy Production)**: In some cases, \"autogen\" may be used to describe systems related to automatic energy generation, often in renewable energy contexts.\\n\\n4. **Autogen (General use)**: More generally, autogen can be shorthand for \"automatic generation,\" referring to any kind of process or system that automatically creates or generates outputs from given inputs with minimal human intervention.\\n\\nIf you have a specific domain or instance in mind, let me know so I can provide more detailed information.', type='TextMessage')], stop_reason=None)"
      ]
     },
     "execution_count": 5,
     "metadata": {},
     "output_type": "execute_result"
    }
   ],
   "source": [
    "result"
   ]
  },
  {
   "cell_type": "markdown",
   "id": "5347c8be",
   "metadata": {},
   "source": [
    "TaskResult(messages=[TextMessage(id='c674f91d-f743-494d-b658-ad0f78b00520', source='user', models_usage=None, metadata={}, created_at=datetime.datetime(2025, 8, 11, 14, 35, 13, 792479, tzinfo=datetime.timezone.utc), content='What is Autogen', type='TextMessage'), TextMessage(id='b430ca73-5faa-4e3a-8e05-1d696d797be5', source='AIAssistant', models_usage=RequestUsage(prompt_tokens=40, completion_tokens=198), metadata={}, created_at=datetime.datetime(2025, 8, 11, 14, 35, 21, 770686, tzinfo=datetime.timezone.utc), content='Autogen can refer to different things depending on the context:\\n\\n1. **Autogen (Software Build Tool):** In software development, Autogen is a tool used to automate the generation of configuration files and scripts necessary for building software projects. It helps in simplifying the maintenance of complex build systems.\\n\\n2. **Autogen (Procedural Generation):** It can also refer to procedurally generating content in various types of applications, especially in gaming and simulation, where it is used to create vast amounts of content automatically using algorithms.\\n\\n3. **General Usage:** The term \"autogen\" is also sometimes used colloquially to describe any automated process that generates data or content without human intervention.\\n\\n4. **Autogen (Sheet Metal Forming Equipment):** In manufacturing, \"Autogen\" may refer to equipment used in the process of cutting and forming sheet metals.\\n\\nPlease specify the context or domain you are referring to if you need detailed information or if you are looking for something specific.', type='TextMessage')], stop_reason=None)"
   ]
  },
  {
   "cell_type": "code",
   "execution_count": 6,
   "id": "5a1abb5d",
   "metadata": {},
   "outputs": [
    {
     "data": {
      "text/plain": [
       "TaskResult(messages=[TextMessage(id='02f20e8b-ce43-42cd-b53f-f41aa1f77f99', source='user', models_usage=None, metadata={}, created_at=datetime.datetime(2025, 8, 11, 14, 37, 3, 862818, tzinfo=datetime.timezone.utc), content='What was my last question?', type='TextMessage'), TextMessage(id='8e7054bb-ee1a-4c26-a7d2-15c42e9757ef', source='AIAssistant', models_usage=RequestUsage(prompt_tokens=287, completion_tokens=11), metadata={}, created_at=datetime.datetime(2025, 8, 11, 14, 37, 4, 972619, tzinfo=datetime.timezone.utc), content='Your last question was, \"What is Autogen?\"', type='TextMessage')], stop_reason=None)"
      ]
     },
     "execution_count": 6,
     "metadata": {},
     "output_type": "execute_result"
    }
   ],
   "source": [
    "result1 = await agent.run(task='What was my last question?')\n",
    "result1"
   ]
  },
  {
   "cell_type": "markdown",
   "id": "9648f707",
   "metadata": {},
   "source": [
    "TaskResult(messages=[TextMessage(id='a9c75de5-aa5a-478d-8ee7-d602f635dcac', source='user', models_usage=None, metadata={}, created_at=datetime.datetime(2025, 8, 11, 14, 36, 14, 449188, tzinfo=datetime.timezone.utc), content='What was my last question?', type='TextMessage'), TextMessage(id='b55a764b-336f-4d4e-95bd-0fbbd2306c9b', source='AIAssistant', models_usage=RequestUsage(prompt_tokens=253, completion_tokens=11), metadata={}, created_at=datetime.datetime(2025, 8, 11, 14, 36, 15, 830034, tzinfo=datetime.timezone.utc), content='Your last question was: \"What is Autogen?\"', type='TextMessage')], stop_reason=None)"
   ]
  }
 ],
 "metadata": {
  "kernelspec": {
   "display_name": "autogen-venv (3.12.7)",
   "language": "python",
   "name": "python3"
  },
  "language_info": {
   "codemirror_mode": {
    "name": "ipython",
    "version": 3
   },
   "file_extension": ".py",
   "mimetype": "text/x-python",
   "name": "python",
   "nbconvert_exporter": "python",
   "pygments_lexer": "ipython3",
   "version": "3.12.7"
  }
 },
 "nbformat": 4,
 "nbformat_minor": 5
}
