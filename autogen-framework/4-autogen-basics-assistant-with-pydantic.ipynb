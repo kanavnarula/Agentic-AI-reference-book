{
 "cells": [
  {
   "cell_type": "code",
   "execution_count": 2,
   "id": "442a0a5b",
   "metadata": {},
   "outputs": [],
   "source": [
    "from autogen_agentchat.agents import AssistantAgent\n",
    "from autogen_ext.models.openai import OpenAIChatCompletionClient\n",
    "from dotenv import load_dotenv\n",
    "import os\n",
    "from pydantic import BaseModel"
   ]
  },
  {
   "cell_type": "markdown",
   "id": "839e9a1e",
   "metadata": {},
   "source": [
    "## Pydantic Class"
   ]
  },
  {
   "cell_type": "code",
   "execution_count": 4,
   "id": "5ef2fa96",
   "metadata": {},
   "outputs": [],
   "source": [
    "class PlanetInfo(BaseModel):\n",
    "    name:str\n",
    "    color:str\n",
    "    distance:str"
   ]
  },
  {
   "cell_type": "markdown",
   "id": "8df14db0",
   "metadata": {},
   "source": [
    "## OpenAI Model"
   ]
  },
  {
   "cell_type": "code",
   "execution_count": 5,
   "id": "5b273756",
   "metadata": {},
   "outputs": [],
   "source": [
    "api_key=os.getenv(\"OPENAI_API_KEY\")\n",
    "\n",
    "# Define a model client. You can use other model client that implements\n",
    "# the `ChatCompletionClient` interface.\n",
    "model_client = OpenAIChatCompletionClient(\n",
    "    model=\"gpt-4o\",\n",
    "    api_key=api_key,\n",
    "    response_format=PlanetInfo\n",
    ")"
   ]
  },
  {
   "cell_type": "code",
   "execution_count": 6,
   "id": "5ef8ac24",
   "metadata": {},
   "outputs": [],
   "source": [
    "agent = AssistantAgent(name=\"AIAssistant\", model_client=model_client)"
   ]
  },
  {
   "cell_type": "code",
   "execution_count": 7,
   "id": "9328340b",
   "metadata": {},
   "outputs": [],
   "source": [
    "result = await agent.run(task=\"What is Autogen\")"
   ]
  },
  {
   "cell_type": "code",
   "execution_count": 8,
   "id": "967d191b",
   "metadata": {},
   "outputs": [
    {
     "data": {
      "text/plain": [
       "'{\"name\":\"Earth\",\"color\":\"Blue and green\",\"distance\":\"N/A\"}'"
      ]
     },
     "execution_count": 8,
     "metadata": {},
     "output_type": "execute_result"
    }
   ],
   "source": [
    "result.messages[-1].content"
   ]
  }
 ],
 "metadata": {
  "kernelspec": {
   "display_name": "autogen-venv (3.12.7)",
   "language": "python",
   "name": "python3"
  },
  "language_info": {
   "codemirror_mode": {
    "name": "ipython",
    "version": 3
   },
   "file_extension": ".py",
   "mimetype": "text/x-python",
   "name": "python",
   "nbconvert_exporter": "python",
   "pygments_lexer": "ipython3",
   "version": "3.12.7"
  }
 },
 "nbformat": 4,
 "nbformat_minor": 5
}
