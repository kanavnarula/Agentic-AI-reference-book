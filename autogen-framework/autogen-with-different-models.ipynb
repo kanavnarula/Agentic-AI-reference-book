{
 "cells": [
  {
   "cell_type": "markdown",
   "id": "7eba7205",
   "metadata": {},
   "source": [
    "## Gemini Model"
   ]
  },
  {
   "cell_type": "code",
   "execution_count": 14,
   "id": "ec26fbe9",
   "metadata": {},
   "outputs": [],
   "source": [
    "from autogen_core.models import UserMessage\n",
    "from autogen_ext.models.openai import OpenAIChatCompletionClient\n",
    "import os\n",
    "from dotenv import load_dotenv\n",
    "from autogen_agentchat.agents import AssistantAgent"
   ]
  },
  {
   "cell_type": "code",
   "execution_count": 7,
   "id": "bbf9e84a",
   "metadata": {},
   "outputs": [
    {
     "data": {
      "text/plain": [
       "True"
      ]
     },
     "execution_count": 7,
     "metadata": {},
     "output_type": "execute_result"
    }
   ],
   "source": [
    "load_dotenv()"
   ]
  },
  {
   "cell_type": "code",
   "execution_count": 3,
   "id": "017e951c",
   "metadata": {},
   "outputs": [
    {
     "name": "stdout",
     "output_type": "stream",
     "text": [
      "finish_reason='stop' content='New Delhi\\n' usage=RequestUsage(prompt_tokens=7, completion_tokens=3) cached=False logprobs=None thought=None\n"
     ]
    }
   ],
   "source": [
    "from autogen_core.models import UserMessage\n",
    "from autogen_ext.models.openai import OpenAIChatCompletionClient\n",
    "\n",
    "model_client = OpenAIChatCompletionClient(\n",
    "    model=\"gemini-1.5-flash-8b\",\n",
    "    api_key=os.getenv(\"GOOGLE_API_KEY\"),\n",
    ")\n",
    "\n",
    "response = await model_client.create([UserMessage(content=\"What is the capital of India?\", source=\"user\")])\n",
    "print(response)\n",
    "await model_client.close()\n"
   ]
  },
  {
   "cell_type": "markdown",
   "id": "77532596",
   "metadata": {},
   "source": [
    "## OpenRouter Model"
   ]
  },
  {
   "cell_type": "code",
   "execution_count": null,
   "id": "77d1ac05",
   "metadata": {},
   "outputs": [
    {
     "name": "stdout",
     "output_type": "stream",
     "text": [
      "finish_reason='stop' content='The capital of France is **Paris**. \\n\\nParis is one of the most famous cities in the world, known for its rich history, iconic landmarks like the **Eiffel Tower**, **Louvre Museum**, and **Notre-Dame Cathedral**, as well as its cultural influence in art, fashion, and cuisine. Would you like more details about Paris or France in general?' usage=RequestUsage(prompt_tokens=12, completion_tokens=78) cached=False logprobs=None thought=None\n"
     ]
    }
   ],
   "source": [
    "open_router_api_key = os.getenv(\"OPEN_ROUTER_KEY\")\n",
    "\n",
    "open_router_model_client =  OpenAIChatCompletionClient(\n",
    "    base_url=\"https://openrouter.ai/api/v1\",\n",
    "    model=\"deepseek/deepseek-chat-v3-0324:free\",\n",
    "    api_key = open_router_api_key,\n",
    "    model_info={\n",
    "        \"family\":'deepseek',\n",
    "        \"vision\" :True,\n",
    "        \"function_calling\":True,\n",
    "        \"json_output\": False\n",
    "    }\n",
    ")"
   ]
  },
  {
   "cell_type": "markdown",
   "id": "44aada1d",
   "metadata": {},
   "source": [
    "### Way 1"
   ]
  },
  {
   "cell_type": "code",
   "execution_count": 12,
   "id": "451eed68",
   "metadata": {},
   "outputs": [
    {
     "name": "stdout",
     "output_type": "stream",
     "text": [
      "finish_reason='stop' content='The capital of France is **Paris**.  \\n\\nParis is known for its iconic landmarks such as the Eiffel Tower, the Louvre Museum, and the Arc de Triomphe. It is also a major cultural, political, and economic hub of Europe.  \\n\\nWould you like any additional details about Paris or France?' usage=RequestUsage(prompt_tokens=12, completion_tokens=64) cached=False logprobs=None thought=None\n"
     ]
    }
   ],
   "source": [
    "response = await open_router_model_client.create([UserMessage(content=\"What is the capital of France?\", source=\"user\")])\n",
    "\n",
    "print(response)"
   ]
  },
  {
   "cell_type": "markdown",
   "id": "b581d80c",
   "metadata": {},
   "source": [
    "### Way 2"
   ]
  },
  {
   "cell_type": "code",
   "execution_count": 15,
   "id": "9ef1111f",
   "metadata": {},
   "outputs": [
    {
     "name": "stdout",
     "output_type": "stream",
     "text": [
      "messages=[TextMessage(id='dc83b4e3-ef0a-486f-8eb8-ca5133882fb7', source='user', models_usage=None, metadata={}, created_at=datetime.datetime(2025, 8, 11, 14, 53, 27, 753106, tzinfo=datetime.timezone.utc), content='What is the capital of France?', type='TextMessage'), TextMessage(id='5dfbd546-299a-482d-93b1-0128e899406c', source='OpenRouterAssistant', models_usage=RequestUsage(prompt_tokens=37, completion_tokens=12), metadata={}, created_at=datetime.datetime(2025, 8, 11, 14, 53, 30, 146804, tzinfo=datetime.timezone.utc), content='The capital of France is Paris. \\n\\nTERMINATE', type='TextMessage')] stop_reason=None\n"
     ]
    }
   ],
   "source": [
    "agent=AssistantAgent(name=\"OpenRouterAssistant\", model_client=open_router_model_client)\n",
    "result1 = await agent.run(task=\"What is the capital of France?\")\n",
    "print(result1)"
   ]
  },
  {
   "cell_type": "markdown",
   "id": "82827c4a",
   "metadata": {},
   "source": [
    "messages=[TextMessage(id='dc83b4e3-ef0a-486f-8eb8-ca5133882fb7', source='user', models_usage=None, metadata={}, created_at=datetime.datetime(2025, 8, 11, 14, 53, 27, 753106, tzinfo=datetime.timezone.utc), content='What is the capital of France?', type='TextMessage'), TextMessage(id='5dfbd546-299a-482d-93b1-0128e899406c', source='OpenRouterAssistant', models_usage=RequestUsage(prompt_tokens=37, completion_tokens=12), metadata={}, created_at=datetime.datetime(2025, 8, 11, 14, 53, 30, 146804, tzinfo=datetime.timezone.utc), content='The capital of France is Paris. \\n\\nTERMINATE', type='TextMessage')] stop_reason=None"
   ]
  }
 ],
 "metadata": {
  "kernelspec": {
   "display_name": "autogen-venv (3.12.7)",
   "language": "python",
   "name": "python3"
  },
  "language_info": {
   "codemirror_mode": {
    "name": "ipython",
    "version": 3
   },
   "file_extension": ".py",
   "mimetype": "text/x-python",
   "name": "python",
   "nbconvert_exporter": "python",
   "pygments_lexer": "ipython3",
   "version": "3.12.7"
  }
 },
 "nbformat": 4,
 "nbformat_minor": 5
}
