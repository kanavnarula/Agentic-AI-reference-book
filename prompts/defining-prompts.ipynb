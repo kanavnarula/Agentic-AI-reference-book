{
 "cells": [
  {
   "cell_type": "code",
   "execution_count": 6,
   "id": "5cf3b774",
   "metadata": {},
   "outputs": [],
   "source": [
    "from langchain.prompts import ChatPromptTemplate, BasePromptTemplate, PromptTemplate\n",
    "from langchain_core.output_parsers import StrOutputParser, JsonOutputParser"
   ]
  },
  {
   "cell_type": "markdown",
   "id": "e7403d02",
   "metadata": {},
   "source": [
    "## Way 1"
   ]
  },
  {
   "cell_type": "code",
   "execution_count": 5,
   "id": "8d663484",
   "metadata": {},
   "outputs": [
    {
     "data": {
      "text/plain": [
       "ChatPromptTemplate(input_variables=['query'], input_types={}, partial_variables={}, messages=[SystemMessagePromptTemplate(prompt=PromptTemplate(input_variables=[], input_types={}, partial_variables={}, template=\"You are a helpful assistant. You will answer the user's question.\"), additional_kwargs={}), HumanMessagePromptTemplate(prompt=PromptTemplate(input_variables=['query'], input_types={}, partial_variables={}, template='{query}'), additional_kwargs={})])"
      ]
     },
     "execution_count": 5,
     "metadata": {},
     "output_type": "execute_result"
    }
   ],
   "source": [
    "prompt = ChatPromptTemplate.from_messages(\n",
    "    [\n",
    "        (\"system\", \"You are a helpful assistant. You will answer the user's question.\"),\n",
    "        (\"user\", \"{query}\"),\n",
    "    ]\n",
    ")\n",
    "prompt"
   ]
  },
  {
   "cell_type": "markdown",
   "id": "f146e3c2",
   "metadata": {},
   "source": [
    "ChatPromptTemplate(input_variables=['query'], input_types={}, partial_variables={}, messages=[SystemMessagePromptTemplate(prompt=PromptTemplate(input_variables=[], input_types={}, partial_variables={}, template=\"You are a helpful assistant. You will answer the user's question.\"), additional_kwargs={}), HumanMessagePromptTemplate(prompt=PromptTemplate(input_variables=['query'], input_types={}, partial_variables={}, template='{query}'), additional_kwargs={})])"
   ]
  },
  {
   "cell_type": "markdown",
   "id": "27a816be",
   "metadata": {},
   "source": [
    "## Way 2"
   ]
  },
  {
   "cell_type": "code",
   "execution_count": 7,
   "id": "3542a3ff",
   "metadata": {},
   "outputs": [
    {
     "data": {
      "text/plain": [
       "PromptTemplate(input_variables=['query'], input_types={}, partial_variables={'format_instructions': 'Return a JSON object.'}, template=\"You are a helpful assistant. You will answer the user's question: {query} and format the response as per {format_instructions}.\")"
      ]
     },
     "execution_count": 7,
     "metadata": {},
     "output_type": "execute_result"
    }
   ],
   "source": [
    "output_parser = JsonOutputParser()\n",
    "\n",
    "prompt2 = PromptTemplate(\n",
    "    template=\"You are a helpful assistant. You will answer the user's question: {query} and format the response as per {format_instructions}.\",\n",
    "    input_variables=[\"query\"],\n",
    "    partial_variables={\"format_instructions\": output_parser.get_format_instructions()},\n",
    ")\n",
    "prompt2"
   ]
  },
  {
   "cell_type": "markdown",
   "id": "2c0be77c",
   "metadata": {},
   "source": [
    "PromptTemplate(input_variables=['query'], input_types={}, partial_variables={'format_instructions': 'Return a JSON object.'}, template=\"You are a helpful assistant. You will answer the user's question: {query} and format the response as per {format_instructions}.\")"
   ]
  },
  {
   "cell_type": "markdown",
   "id": "875c1bb5",
   "metadata": {},
   "source": [
    "## Way 3"
   ]
  },
  {
   "cell_type": "code",
   "execution_count": 9,
   "id": "df301861",
   "metadata": {},
   "outputs": [
    {
     "data": {
      "text/plain": [
       "ChatPromptTemplate(input_variables=['context', 'question'], input_types={}, partial_variables={}, metadata={'lc_hub_owner': 'rlm', 'lc_hub_repo': 'rag-prompt', 'lc_hub_commit_hash': '50442af133e61576e74536c6556cefe1fac147cad032f4377b60c436e6cdcb6e'}, messages=[HumanMessagePromptTemplate(prompt=PromptTemplate(input_variables=['context', 'question'], input_types={}, partial_variables={}, template=\"You are an assistant for question-answering tasks. Use the following pieces of retrieved context to answer the question. If you don't know the answer, just say that you don't know. Use three sentences maximum and keep the answer concise.\\nQuestion: {question} \\nContext: {context} \\nAnswer:\"), additional_kwargs={})])"
      ]
     },
     "execution_count": 9,
     "metadata": {},
     "output_type": "execute_result"
    }
   ],
   "source": [
    "from langchain import hub\n",
    "prompt3 = hub.pull(\"rlm/rag-prompt\")\n",
    "prompt3"
   ]
  },
  {
   "cell_type": "markdown",
   "id": "1ec3b0c0",
   "metadata": {},
   "source": [
    "ChatPromptTemplate(input_variables=['context', 'question'], input_types={}, partial_variables={}, metadata={'lc_hub_owner': 'rlm', 'lc_hub_repo': 'rag-prompt', 'lc_hub_commit_hash': '50442af133e61576e74536c6556cefe1fac147cad032f4377b60c436e6cdcb6e'}, messages=[HumanMessagePromptTemplate(prompt=PromptTemplate(input_variables=['context', 'question'], input_types={}, partial_variables={}, template=\"You are an assistant for question-answering tasks. Use the following pieces of retrieved context to answer the question. If you don't know the answer, just say that you don't know. Use three sentences maximum and keep the answer concise.\\nQuestion: {question} \\nContext: {context} \\nAnswer:\"), additional_kwargs={})])"
   ]
  },
  {
   "cell_type": "markdown",
   "id": "91337c00",
   "metadata": {},
   "source": [
    "## Ways to test Prompt"
   ]
  },
  {
   "cell_type": "code",
   "execution_count": null,
   "id": "ad12eeeb",
   "metadata": {},
   "outputs": [],
   "source": [
    "prompt.invoke({\"question\":\"what is a langchain?\",\"context\":\"langchain is very super framework for LLM.\"})"
   ]
  }
 ],
 "metadata": {
  "kernelspec": {
   "display_name": "lang-chain-graph (3.13.5)",
   "language": "python",
   "name": "python3"
  },
  "language_info": {
   "codemirror_mode": {
    "name": "ipython",
    "version": 3
   },
   "file_extension": ".py",
   "mimetype": "text/x-python",
   "name": "python",
   "nbconvert_exporter": "python",
   "pygments_lexer": "ipython3",
   "version": "3.13.5"
  }
 },
 "nbformat": 4,
 "nbformat_minor": 5
}
