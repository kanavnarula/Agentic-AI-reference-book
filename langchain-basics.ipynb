{
 "cells": [
  {
   "cell_type": "code",
   "execution_count": 45,
   "id": "8fe80044",
   "metadata": {},
   "outputs": [],
   "source": [
    "import os\n",
    "from dotenv import load_dotenv\n",
    "from langchain_openai import ChatOpenAI\n",
    "from langchain_groq import ChatGroq\n",
    "from langchain.prompts import ChatPromptTemplate, BasePromptTemplate, PromptTemplate\n",
    "from langchain_core.output_parsers import StrOutputParser, JsonOutputParser\n",
    "from langchain.output_parsers.xml import XMLOutputParser\n",
    "from pydantic import BaseModel, Field"
   ]
  },
  {
   "cell_type": "code",
   "execution_count": 7,
   "id": "24a05e06",
   "metadata": {},
   "outputs": [
    {
     "data": {
      "text/plain": [
       "True"
      ]
     },
     "execution_count": 7,
     "metadata": {},
     "output_type": "execute_result"
    }
   ],
   "source": [
    "load_dotenv()"
   ]
  },
  {
   "cell_type": "code",
   "execution_count": 8,
   "id": "f8d5e235",
   "metadata": {},
   "outputs": [],
   "source": [
    "os.environ[\"OPENAI_API_KEY\"] = os.getenv(\"OPENAI_API_KEY\")\n",
    "os.environ[\"GROQ_API_KEY\"] = os.getenv(\"GROQ_API_KEY\")"
   ]
  },
  {
   "cell_type": "code",
   "execution_count": 26,
   "id": "ae70b632",
   "metadata": {},
   "outputs": [],
   "source": [
    "chat_openai = ChatOpenAI(model=\"gpt-4o\")\n",
    "chat_groq = ChatGroq(model=\"qwen/qwen3-32b\")\n",
    "\n",
    "# response = chat_openai.invoke(\"What is the capital of France?\")\n",
    "# # chat_openai.invoke({\"query\": \"What is the capital of France?\"})"
   ]
  },
  {
   "cell_type": "code",
   "execution_count": 14,
   "id": "70519ea7",
   "metadata": {},
   "outputs": [],
   "source": [
    "prompt = ChatPromptTemplate.from_messages(\n",
    "    [\n",
    "        (\"system\", \"You are a helpful assistant. You will answer the user's question.\"),\n",
    "        (\"user\", \"{query}\"),\n",
    "    ]\n",
    ")"
   ]
  },
  {
   "cell_type": "code",
   "execution_count": 15,
   "id": "b18e5037",
   "metadata": {},
   "outputs": [
    {
     "data": {
      "text/plain": [
       "ChatPromptTemplate(input_variables=['query'], input_types={}, partial_variables={}, messages=[SystemMessagePromptTemplate(prompt=PromptTemplate(input_variables=[], input_types={}, partial_variables={}, template=\"You are a helpful assistant. You will answer the user's question.\"), additional_kwargs={}), HumanMessagePromptTemplate(prompt=PromptTemplate(input_variables=['query'], input_types={}, partial_variables={}, template='{query}'), additional_kwargs={})])\n",
       "| ChatOpenAI(client=<openai.resources.chat.completions.completions.Completions object at 0x1241eb100>, async_client=<openai.resources.chat.completions.completions.AsyncCompletions object at 0x1241eb490>, root_client=<openai.OpenAI object at 0x1241eaea0>, root_async_client=<openai.AsyncOpenAI object at 0x1241eb230>, model_name='gpt-4o', model_kwargs={}, openai_api_key=SecretStr('**********'))"
      ]
     },
     "execution_count": 15,
     "metadata": {},
     "output_type": "execute_result"
    }
   ],
   "source": [
    "chain = prompt | chat_openai\n",
    "chain"
   ]
  },
  {
   "cell_type": "code",
   "execution_count": 20,
   "id": "ed62820b",
   "metadata": {},
   "outputs": [],
   "source": [
    "response = chain.invoke(\"What is the Agentic AI?\")"
   ]
  },
  {
   "cell_type": "code",
   "execution_count": 22,
   "id": "d35c66ca",
   "metadata": {},
   "outputs": [
    {
     "name": "stdout",
     "output_type": "stream",
     "text": [
      "Agentic AI refers to artificial intelligence systems that possess agency, meaning they have the capability to autonomously make decisions or take actions toward achieving certain goals. These systems operate with a level of independence and are designed to perceive their environment, reason about the information they gather, and execute actions that align with their pre-defined objectives.\n",
      "\n",
      "Agentic AI can vary significantly in complexity and purpose, ranging from relatively simple systems like automated stock trading bots that independently execute buy/sell orders, to more complex systems like autonomous vehicles that must continuously make real-time decisions based on sensor data to navigate their environment safely.\n",
      "\n",
      "The concept of agentic AI emphasizes the capacity of artificial intelligence systems to have sustained interaction with their environment, adapt to changing conditions, and effectively execute complex tasks without constant human intervention. While Agentic AI can greatly enhance efficiency and capability in numerous domains, it also raises important ethical and safety considerations, particularly around issues of accountability, control, and the broader impacts of autonomous decision-making systems in society.\n"
     ]
    }
   ],
   "source": [
    "print(response.content)  # Assuming the response has a 'content' attribute"
   ]
  },
  {
   "cell_type": "code",
   "execution_count": 27,
   "id": "61a0a15c",
   "metadata": {},
   "outputs": [
    {
     "data": {
      "text/plain": [
       "ChatPromptTemplate(input_variables=['query'], input_types={}, partial_variables={}, messages=[SystemMessagePromptTemplate(prompt=PromptTemplate(input_variables=[], input_types={}, partial_variables={}, template=\"You are a helpful assistant. You will answer the user's question.\"), additional_kwargs={}), HumanMessagePromptTemplate(prompt=PromptTemplate(input_variables=['query'], input_types={}, partial_variables={}, template='{query}'), additional_kwargs={})])\n",
       "| ChatGroq(client=<groq.resources.chat.completions.Completions object at 0x124cb8180>, async_client=<groq.resources.chat.completions.AsyncCompletions object at 0x124cba780>, model_name='qwen/qwen3-32b', model_kwargs={}, groq_api_key=SecretStr('**********'))"
      ]
     },
     "execution_count": 27,
     "metadata": {},
     "output_type": "execute_result"
    }
   ],
   "source": [
    "chain_groq = prompt | chat_groq\n",
    "chain_groq"
   ]
  },
  {
   "cell_type": "code",
   "execution_count": 28,
   "id": "7bd5732a",
   "metadata": {},
   "outputs": [],
   "source": [
    "response = chain_groq.invoke(\"What is the Agentic AI?\")"
   ]
  },
  {
   "cell_type": "code",
   "execution_count": 29,
   "id": "f641265e",
   "metadata": {},
   "outputs": [
    {
     "name": "stdout",
     "output_type": "stream",
     "text": [
      "<think>\n",
      "Okay, the user is asking what Agentic AI is. I need to start by defining it. Let me recall what I know about Agentic AI. From what I remember, it's a type of AI that can act independently, make decisions, and learn from its environment. But I should check if there's a more precise definition.\n",
      "\n",
      "I think it's related to autonomous agents. Maybe I should mention that Agentic AI systems are designed to perform tasks with minimal human intervention. They might use techniques like reinforcement learning or other AI methods to adapt and improve over time. \n",
      "\n",
      "Wait, the user might be interested in how it's different from traditional AI. Traditional AI is more about following predefined rules, while Agentic AI is about autonomy and adaptability. I should highlight that distinction.\n",
      "\n",
      "Also, there are different types of Agentic AI. For example, some might focus on decision-making in complex environments, others on interacting with humans or other systems. Maybe examples would help. Like autonomous vehicles or AI in customer service that handles conversations independently.\n",
      "\n",
      "I should mention the key characteristics: autonomy, learning capability, adaptability, and possibly interaction with the environment. Maybe also touch on applications in various fields like healthcare, finance, or robotics.\n",
      "\n",
      "But I need to be careful not to mix up Agentic AI with other concepts like General AI or AGI. Agentic AI is more about specific tasks with autonomy, whereas AGI is about human-level intelligence across all domains. Clarifying that could prevent confusion.\n",
      "\n",
      "Are there any notable projects or frameworks that exemplify Agentic AI? Like AlphaGo or other reinforcement learning systems? Or maybe something like chatbots that learn from interactions? I should avoid assuming too much and keep it general unless specific examples are well-known.\n",
      "\n",
      "Also, possible challenges with Agentic AI: ethical concerns, unpredictability due to autonomy, need for robust safety measures. Maybe mention these as considerations.\n",
      "\n",
      "Let me structure this. Start with a definition, then key features, examples, applications, and challenges. Keep it clear and concise. Avoid jargon where possible, but if necessary, explain it. Make sure to answer the user's question fully but not overly technical.\n",
      "</think>\n",
      "\n",
      "**Agentic AI** refers to a class of artificial intelligence systems designed to operate autonomously, make decisions, and adapt to dynamic environments with minimal human intervention. These systems are often modeled as **autonomous agents**, which can perceive their surroundings, set goals, take actions, learn from outcomes, and improve over time.\n",
      "\n",
      "---\n",
      "\n",
      "### **Key Characteristics of Agentic AI**\n",
      "1. **Autonomy**:  \n",
      "   Agentic AI systems can function independently, executing tasks without continuous human oversight. For example, a self-driving car navigates roads without direct control.\n",
      "\n",
      "2. **Adaptability**:  \n",
      "   These systems learn from new data and experiences, adjusting their strategies in real-time. Reinforcement learning (RL) is a common technique used to train such agents.\n",
      "\n",
      "3. **Goal-Driven Behavior**:  \n",
      "   Agentic AI is programmed with specific objectives (e.g., maximizing user engagement, optimizing resource allocation) and works to achieve them efficiently.\n",
      "\n",
      "4. **Interactivity**:  \n",
      "   Many agentic systems interact with humans, other AI agents, or environments. For instance, chatbots engage in conversations, while robotic systems collaborate with humans in factories.\n",
      "\n",
      "5. **Reactive and Proactive Capabilities**:  \n",
      "   They can respond to immediate stimuli (reactive) and anticipate future needs (proactive). For example, a recommendation system might suggest products based on current behavior and predict future preferences.\n",
      "\n",
      "---\n",
      "\n",
      "### **Applications of Agentic AI**\n",
      "- **Autonomous Vehicles**: Navigate roads using sensors and machine learning.  \n",
      "- **Customer Service Bots**: Handle user queries independently (e.g., chatbots).  \n",
      "- **Healthcare**: AI systems that monitor patient vitals, recommend treatments, or assist in surgeries.  \n",
      "- **Financial Services**: Algorithmic trading systems or fraud detection tools.  \n",
      "- **Gaming**: Non-player characters (NPCs) in games that adapt to player behavior.  \n",
      "- **Robotics**: Industrial robots that learn and optimize tasks in dynamic settings.\n",
      "\n",
      "---\n",
      "\n",
      "### **Technologies Behind Agentic AI**\n",
      "- **Reinforcement Learning (RL)**: Trains agents via trial and error with rewards/penalties.  \n",
      "- **Natural Language Processing (NLP)**: Enables interaction in human languages (e.g., chatbots).  \n",
      "- **Computer Vision**: Allows agents to interpret visual data (e.g., self-driving cars).  \n",
      "- **Multi-Agent Systems**: Networks of agents collaborating or competing (e.g., traffic management).\n",
      "\n",
      "---\n",
      "\n",
      "### **Challenges and Considerations**\n",
      "1. **Ethical Risks**:  \n",
      "   Autonomous decisions may lead to unintended biases, privacy issues, or safety concerns (e.g., a self-driving car prioritizing passenger safety over pedestrians).\n",
      "\n",
      "2. **Explainability**:  \n",
      "   Agentic AI systems often operate as \"black boxes,\" making it hard to understand their decision-making process.\n",
      "\n",
      "3. **Security**:  \n",
      "   Malicious actors could exploit autonomous systems for harmful purposes (e.g., autonomous weapons).\n",
      "\n",
      "4. **Regulation**:  \n",
      "   Governments are still developing frameworks to govern agentic AI responsibly.\n",
      "\n",
      "---\n",
      "\n",
      "### **Agentic AI vs. General AI (AGI)**\n",
      "- **Agentic AI** is **narrow**, focused on specific tasks (e.g., playing chess, managing inventory).  \n",
      "- **Artificial General Intelligence (AGI)** (hypothetical) would possess human-like cognitive abilities across all domains. Agentic AI is a step toward AGI but remains far from achieving it.\n",
      "\n",
      "---\n",
      "\n",
      "In summary, agentic AI represents a shift toward **intelligent, autonomous systems** that can act independently in complex environments. Its development raises both exciting opportunities and critical questions about ethics, safety, and control.\n"
     ]
    }
   ],
   "source": [
    "print(response.content)  # Assuming the response has a 'content' attribute"
   ]
  },
  {
   "cell_type": "code",
   "execution_count": 30,
   "id": "a9830adc",
   "metadata": {},
   "outputs": [
    {
     "data": {
      "text/plain": [
       "ChatPromptTemplate(input_variables=['query'], input_types={}, partial_variables={}, messages=[SystemMessagePromptTemplate(prompt=PromptTemplate(input_variables=[], input_types={}, partial_variables={}, template=\"You are a helpful assistant. You will answer the user's question.\"), additional_kwargs={}), HumanMessagePromptTemplate(prompt=PromptTemplate(input_variables=['query'], input_types={}, partial_variables={}, template='{query}'), additional_kwargs={})])\n",
       "| ChatGroq(client=<groq.resources.chat.completions.Completions object at 0x124cb8180>, async_client=<groq.resources.chat.completions.AsyncCompletions object at 0x124cba780>, model_name='qwen/qwen3-32b', model_kwargs={}, groq_api_key=SecretStr('**********'))\n",
       "| StrOutputParser()"
      ]
     },
     "execution_count": 30,
     "metadata": {},
     "output_type": "execute_result"
    }
   ],
   "source": [
    "output_parser = StrOutputParser()\n",
    "\n",
    "chain_groq = prompt | chat_groq | output_parser\n",
    "chain_groq"
   ]
  },
  {
   "cell_type": "code",
   "execution_count": 32,
   "id": "8d0fe238",
   "metadata": {},
   "outputs": [],
   "source": [
    "response = chain_groq.invoke(\"What is the Agentic AI?\")"
   ]
  },
  {
   "cell_type": "code",
   "execution_count": null,
   "id": "25a200c1",
   "metadata": {},
   "outputs": [
    {
     "name": "stdout",
     "output_type": "stream",
     "text": [
      "<think>\n",
      "Okay, so I need to figure out what Agentic AI is. Let me start by breaking down the term. \"Agentic\" probably relates to agency, which is about the ability to act independently. So Agentic AI might refer to AI systems that have more autonomy. But I'm not sure, so I should look into more details.\n",
      "\n",
      "First, I remember that traditional AI systems, especially those based on machine learning, are usually designed to perform specific tasks under the guidance of humans. They learn from data and make predictions or decisions, but they don't have a sense of self or the ability to initiate actions on their own. Agentic AI might be different in that aspect.\n",
      "\n",
      "I think there has been some advancement in AI that allows systems to plan, reason, and make decisions in more complex environments. Maybe Agentic AI uses these capabilities to act more independently. For example, an AI that can set goals for itself, break them down into steps, and execute them without constant human input. That sounds like what \"agentic\" implies.\n",
      "\n",
      "Also, there's the concept of autonomous systems in AI. Autonomous vehicles, for instance, make decisions in real-time based on their environment. Agentic AI could be a broader term encompassing such systems but with more cognitive capabilities. They might not just react to the environment but also understand the context and act proactively.\n",
      "\n",
      "Another angle is the integration of different AI components. Traditional AI might use specific algorithms for specific tasks, but Agentic AI could combine multiple AI techniques—like natural language processing, computer vision, and decision-making algorithms—to perform more complex tasks that require a sequence of actions.\n",
      "\n",
      "I should also consider if there are specific frameworks or models that are labeled as Agentic AI. Maybe there are research papers or developments in the field that define Agentic AI more formally. For example, the concept of an AI agent that can learn from experience, adapt to new situations, and collaborate with humans or other agents.\n",
      "\n",
      "Wait, there's also the idea of AI agents in multi-agent systems, where multiple AI entities interact and work together. Agentic AI might involve such interactions, where each agent has its own goals and can negotiate or coordinate with others to achieve objectives.\n",
      "\n",
      "However, I need to be careful not to confuse Agentic AI with other terms like AI autonomy or AI agents in general. Agentic AI might be a more advanced or specific form. It could involve elements like self-awareness, although true self-awareness is still a challenge in AI. Alternatively, it might mimic agency through sophisticated programming and learning algorithms.\n",
      "\n",
      "In summary, Agentic AI likely refers to AI systems capable of autonomous decision-making, goal-setting, and proactive actions. They go beyond following pre-defined rules or optimizing specific metrics to adaptively pursue objectives in dynamic environments. This might involve integrating various AI techniques, learning from experience, and interacting with humans and other agents effectively.\n",
      "\n",
      "I should also think about the implications and applications. Agentic AI could be used in areas like personalized assistants that anticipate user needs, autonomous robots that can navigate complex tasks, or AI in creative industries that can generate novel ideas. However, there are ethical considerations regarding control, accountability, and unintended consequences when AI acts autonomously.\n",
      "\n",
      "I need to verify if there are any recent developments or specific technologies categorized under Agentic AI. Maybe companies like Google, OpenAI, or Anthropic have models or research papers on this topic. Checking some sources might help clarify the definition and current state of Agentic AI.\n",
      "\n",
      "In conclusion, Agentic AI is an emerging concept where AI systems exhibit agency by making independent decisions, setting goals, and acting proactively. It combines advanced AI techniques to create systems that can operate autonomously in complex and dynamic environments, potentially transforming various industries while raising important ethical questions.\n",
      "</think>\n",
      "\n",
      "**Agentic AI** refers to a class of artificial intelligence systems that exhibit **autonomous decision-making, goal-setting, and proactive action**. Unlike traditional AI systems that follow predefined rules or optimize specific metrics, Agentic AI aims to act independently, adapt to dynamic environments, and pursue objectives with minimal human intervention. This concept is increasingly relevant as AI systems evolve to perform complex, multi-step tasks in real-world scenarios.\n",
      "\n",
      "### Key Characteristics of Agentic AI:\n",
      "1. **Autonomy**: \n",
      "   - Agentic AI systems can operate independently, setting their own goals or adapting to user-defined tasks without constant oversight.\n",
      "   - Example: An AI assistant that anticipates a user's needs (e.g., scheduling meetings, drafting emails) based on context and prior interactions.\n",
      "\n",
      "2. **Proactive Behavior**:\n",
      "   - Rather than passively responding to inputs, agentic AI systems actively seek information, plan actions, and execute strategies to achieve goals.\n",
      "   - Example: An autonomous robot navigating an unfamiliar environment to complete a task (e.g., delivering a package).\n",
      "\n",
      "3. **Reasoning and Planning**:\n",
      "   - These systems integrate advanced capabilities like logical reasoning, problem-solving, and long-term planning. They often use **multi-modal AI** (combining vision, language, and decision-making) to handle complex workflows.\n",
      "   - Example: An AI agent playing a strategy game by analyzing the game state, predicting opponent moves, and adjusting tactics in real time.\n",
      "\n",
      "4. **Adaptability**:\n",
      "   - Agentic AI learns from experience, adjusts to new information, and modifies strategies when faced with unexpected challenges.\n",
      "   - Example: A customer service AI that refines its responses based on user feedback and evolving product updates.\n",
      "\n",
      "5. **Interaction with Humans and Other Agents**:\n",
      "   - These systems collaborate with humans or other AI agents, negotiating, coordinating, or competing to achieve shared or individual goals.\n",
      "   - Example: Autonomous vehicles communicating with traffic systems and other vehicles to optimize traffic flow and avoid collisions.\n",
      "\n",
      "### Applications:\n",
      "- **Personal Assistants**: Hyper-personalized AI that manages tasks like booking appointments, analyzing data, or generating creative content.\n",
      "- **Healthcare**: AI systems that diagnose diseases, recommend treatments, and monitor patient progress autonomously.\n",
      "- **Business Automation**: Agentic AI managing supply chains, optimizing logistics, or conducting market research.\n",
      "- **Creative Industries**: AI that generates original art, writes scripts, or composes music by understanding creative goals and user preferences.\n",
      "\n",
      "### Technical Foundations:\n",
      "- **Large Language Models (LLMs)**: Provide the foundation for natural language understanding and generation, enabling interaction and reasoning.\n",
      "- **Reinforcement Learning (RL)**: Trains AI to make sequential decisions through trial and error in dynamic environments.\n",
      "- **Multi-Agent Systems**: Enable collaboration between multiple AI entities, each with distinct roles or goals.\n",
      "- **Memory and Planning Modules**: Help AI retain context, track progress, and adjust plans over time (e.g., DeepMind's **DQN** or **AlphaStar**).\n",
      "\n",
      "### Ethical and Practical Considerations:\n",
      "- **Control and Safety**: Ensuring agentic AI adheres to ethical guidelines and does not act in harmful or unintended ways.\n",
      "- **Accountability**: Determining responsibility for decisions made by autonomous AI systems.\n",
      "- **Bias and Fairness**: Mitigating biases in AI behavior, especially when acting autonomously.\n",
      "- **Human Oversight**: Balancing autonomy with the need for human intervention in critical decisions.\n",
      "\n",
      "### Notable Examples:\n",
      "- **Google’s Gemini**: A multimodal AI capable of reasoning across text, code, and images to perform complex tasks.\n",
      "- **Anthropic’s Claude**: Designed for interactive, multi-turn conversations and task execution with user feedback.\n",
      "- **AutoGPT**: An open-source framework for creating AI agents that autonomously perform tasks like website scraping or research.\n",
      "- **DeepMind’s Sparrow**: An AI trained to answer questions safely and responsibly, incorporating user feedback and ethical constraints.\n",
      "\n",
      "### Conclusion:\n",
      "Agentic AI represents a significant leap toward **artificial general intelligence (AGI)**, where systems can handle a wide range of tasks with human-like flexibility. While still in development, agentic AI has the potential to revolutionize industries by automating complex workflows and augmenting human capabilities. However, its deployment requires careful attention to ethical, safety, and regulatory frameworks to ensure alignment with human values.\n"
     ]
    }
   ],
   "source": [
    "# Content is not required here, as output_parser will handle the response\n",
    "print(response)"
   ]
  },
  {
   "cell_type": "code",
   "execution_count": 34,
   "id": "2bc5271c",
   "metadata": {},
   "outputs": [],
   "source": [
    "output_parser = JsonOutputParser()\n",
    "\n",
    "prompt2 = PromptTemplate(\n",
    "    template=\"You are a helpful assistant. You will answer the user's question: {query} and format the response as per {format_instructions}.\",\n",
    "    input_variables=[\"query\"],\n",
    "    partial_variables={\"format_instructions\": output_parser.get_format_instructions()},\n",
    ")"
   ]
  },
  {
   "cell_type": "code",
   "execution_count": 35,
   "id": "80fb92d5",
   "metadata": {},
   "outputs": [
    {
     "data": {
      "text/plain": [
       "PromptTemplate(input_variables=['query'], input_types={}, partial_variables={'format_instructions': 'Return a JSON object.'}, template=\"You are a helpful assistant. You will answer the user's question: {query} and format the response as per {format_instructions}.\")"
      ]
     },
     "execution_count": 35,
     "metadata": {},
     "output_type": "execute_result"
    }
   ],
   "source": [
    "prompt2"
   ]
  },
  {
   "cell_type": "code",
   "execution_count": 40,
   "id": "bdd2656d",
   "metadata": {},
   "outputs": [],
   "source": [
    "chain_json = prompt2 | chat_groq\n",
    "response_json = chain_json.invoke(\"What is the Agentic AI?\")"
   ]
  },
  {
   "cell_type": "code",
   "execution_count": 42,
   "id": "1ed212fd",
   "metadata": {},
   "outputs": [
    {
     "name": "stdout",
     "output_type": "stream",
     "text": [
      "<think>\n",
      "Okay, the user is asking, \"What is the Agentic AI?\" and wants the answer in a JSON object. First, I need to make sure I understand what Agentic AI refers to. Let me think.\n",
      "\n",
      "Agentic AI is a term that's been around for a while. It's about AI systems that can act autonomously, right? So, they have agency, which means they can make decisions and take actions without constant human input. I should mention autonomy as a key characteristic.\n",
      "\n",
      "Also, Agentic AI should be able to learn from experiences and adapt. So, machine learning and adaptability are important points. Maybe they have goals or objectives they can pursue independently. That's another aspect to include.\n",
      "\n",
      "I should outline the main features in the JSON. Let me structure it with a \"definition\" and \"key_characteristics\". The definition needs to be concise, explaining that it's an AI model designed to act autonomously, make decisions, and adapt. The key characteristics could include autonomy, learning, goal-oriented behavior, adaptability, and decision-making. Each of these should be a bullet point in an array.\n",
      "\n",
      "Wait, does Agentic AI specifically refer to a certain type of AI or is it a broader concept? I think it's a general term for AI systems with agent-like properties. So maybe I should avoid mentioning specific implementations unless necessary. The user probably wants a high-level overview.\n",
      "\n",
      "I should also check if there are any other key aspects. Perhaps interaction with the environment through actions and observations? That's part of how agents operate. So maybe include that in the definition or characteristics.\n",
      "\n",
      "Let me put it all together. The JSON object will have a \"definition\" and \"key_characteristics\". Each characteristic is a string in an array. Make sure the JSON syntax is correct with commas and brackets. No markdown, just plain JSON. Alright, that should cover the user's query effectively.\n",
      "</think>\n",
      "\n",
      "{\n",
      "  \"definition\": \"Agentic AI refers to artificial intelligence systems that possess autonomy, agency, and the ability to act on behalf of users or themselves, driven by goals or objectives. These systems can make decisions, learn from experiences, adapt to dynamic environments, and execute actions independently.\",\n",
      "  \"key_characteristics\": [\n",
      "    \"Autonomy: Operates independently without constant human intervention.\",\n",
      "    \"Goal-oriented: Pursues specific goals or tasks with purpose.\",\n",
      "    \"Adaptability: Learns and adjusts strategies based on new data or changing conditions.\",\n",
      "    \"Decision-making: Analyzes information to make informed choices.\",\n",
      "    \"Proactivity: Anticipates needs and initiates actions to achieve outcomes.\"\n",
      "  ]\n",
      "}\n"
     ]
    }
   ],
   "source": [
    "print(response_json.content)  # Assuming the response has a 'content' attribute"
   ]
  },
  {
   "cell_type": "code",
   "execution_count": 43,
   "id": "ef7c92ac",
   "metadata": {},
   "outputs": [],
   "source": [
    "chain_json = prompt2 | chat_openai\n",
    "response_json = chain_json.invoke(\"What is the Agentic AI?\")"
   ]
  },
  {
   "cell_type": "code",
   "execution_count": 44,
   "id": "17c30faf",
   "metadata": {},
   "outputs": [
    {
     "name": "stdout",
     "output_type": "stream",
     "text": [
      "```json\n",
      "{\n",
      "    \"title\": \"Agentic AI\",\n",
      "    \"definition\": \"Agentic AI refers to artificial intelligence systems that are designed to perform tasks autonomously with a level of independence and decision-making ability akin to an 'agent.' These systems are typically capable of perceiving their environment, making decisions based on pre-defined goals or objectives, and executing actions to achieve those goals. This type of AI can be used in various applications ranging from robotics to virtual assistants.\",\n",
      "    \"key_features\": [\n",
      "        \"Autonomy\",\n",
      "        \"Decision-making\",\n",
      "        \"Goal-oriented behavior\",\n",
      "        \"Learning capabilities\",\n",
      "        \"Adaptability\"\n",
      "    ],\n",
      "    \"examples\": [\n",
      "        \"Autonomous vehicles\",\n",
      "        \"Personal virtual assistants\",\n",
      "        \"Automated trading systems\"\n",
      "    ],\n",
      "    \"implications\": \"Agentic AI has the potential to significantly impact industries by automating complex tasks and enabling new capabilities. However, it also raises ethical and safety concerns, including the need for robust decision-making protocols and accountability mechanisms.\"\n",
      "}\n",
      "```\n"
     ]
    }
   ],
   "source": [
    "print(response_json.content)  # Assuming the response has a 'content' attribute"
   ]
  }
 ],
 "metadata": {
  "kernelspec": {
   "display_name": "lang-chain-graph (3.13.5)",
   "language": "python",
   "name": "python3"
  },
  "language_info": {
   "codemirror_mode": {
    "name": "ipython",
    "version": 3
   },
   "file_extension": ".py",
   "mimetype": "text/x-python",
   "name": "python",
   "nbconvert_exporter": "python",
   "pygments_lexer": "ipython3",
   "version": "3.13.5"
  }
 },
 "nbformat": 4,
 "nbformat_minor": 5
}
