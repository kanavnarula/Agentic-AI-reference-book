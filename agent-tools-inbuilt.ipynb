{
 "cells": [
  {
   "cell_type": "markdown",
   "metadata": {},
   "source": [
    "## Wikipedia Tool"
   ]
  },
  {
   "cell_type": "code",
   "execution_count": 1,
   "metadata": {},
   "outputs": [],
   "source": [
    "from langchain_community.tools import WikipediaQueryRun\n",
    "from langchain_community.utilities import WikipediaAPIWrapper"
   ]
  },
  {
   "cell_type": "code",
   "execution_count": 2,
   "metadata": {},
   "outputs": [],
   "source": [
    "wiki_api_wrapper = WikipediaAPIWrapper(top_k_results=2, doc_content_chars_max=500)"
   ]
  },
  {
   "cell_type": "code",
   "execution_count": 3,
   "metadata": {},
   "outputs": [],
   "source": [
    "wiki_tool = WikipediaQueryRun(api_wrapper=wiki_api_wrapper)"
   ]
  },
  {
   "cell_type": "code",
   "execution_count": 4,
   "metadata": {},
   "outputs": [
    {
     "data": {
      "text/plain": [
       "'wikipedia'"
      ]
     },
     "execution_count": 4,
     "metadata": {},
     "output_type": "execute_result"
    }
   ],
   "source": [
    "wiki_tool.name"
   ]
  },
  {
   "cell_type": "code",
   "execution_count": 5,
   "metadata": {},
   "outputs": [
    {
     "data": {
      "text/plain": [
       "'A wrapper around Wikipedia. Useful for when you need to answer general questions about people, places, companies, facts, historical events, or other subjects. Input should be a search query.'"
      ]
     },
     "execution_count": 5,
     "metadata": {},
     "output_type": "execute_result"
    }
   ],
   "source": [
    "wiki_tool.description"
   ]
  },
  {
   "cell_type": "code",
   "execution_count": 6,
   "metadata": {},
   "outputs": [
    {
     "data": {
      "text/plain": [
       "{'query': {'description': 'query to look up on wikipedia',\n",
       "  'title': 'Query',\n",
       "  'type': 'string'}}"
      ]
     },
     "execution_count": 6,
     "metadata": {},
     "output_type": "execute_result"
    }
   ],
   "source": [
    "wiki_tool.args"
   ]
  },
  {
   "cell_type": "code",
   "execution_count": 7,
   "metadata": {},
   "outputs": [
    {
     "data": {
      "text/plain": [
       "'Page: Machine learning\\nSummary: Machine learning (ML) is a field of study in artificial intelligence concerned with the development and study of statistical algorithms that can learn from data and generalise to unseen data, and thus perform tasks without explicit instructions. Within a subdiscipline in machine learning, advances in the field of deep learning have allowed neural networks, a class of statistical algorithms, to surpass many previous machine learning approaches in performance.\\nML fi'"
      ]
     },
     "execution_count": 7,
     "metadata": {},
     "output_type": "execute_result"
    }
   ],
   "source": [
    "wiki_tool.run(\"Machine Learning\")"
   ]
  },
  {
   "cell_type": "code",
   "execution_count": 8,
   "metadata": {},
   "outputs": [
    {
     "data": {
      "text/plain": [
       "'Page: Machine learning\\nSummary: Machine learning (ML) is a field of study in artificial intelligence concerned with the development and study of statistical algorithms that can learn from data and generalise to unseen data, and thus perform tasks without explicit instructions. Within a subdiscipline in machine learning, advances in the field of deep learning have allowed neural networks, a class of statistical algorithms, to surpass many previous machine learning approaches in performance.\\nML fi'"
      ]
     },
     "execution_count": 8,
     "metadata": {},
     "output_type": "execute_result"
    }
   ],
   "source": [
    "wiki_tool.run({\"query\": \"Machine Learning\"})"
   ]
  },
  {
   "cell_type": "markdown",
   "metadata": {},
   "source": [
    "## You Tube Tool"
   ]
  },
  {
   "cell_type": "code",
   "execution_count": 9,
   "metadata": {},
   "outputs": [],
   "source": [
    "from langchain_community.tools import YouTubeSearchTool\n",
    "\n",
    "tool = YouTubeSearchTool()"
   ]
  },
  {
   "cell_type": "code",
   "execution_count": 10,
   "metadata": {},
   "outputs": [
    {
     "data": {
      "text/plain": [
       "\"['https://www.youtube.com/watch?v=d4yCWBGFCEs&pp=ygUWR2VuZXJhdGl2ZSBBSSBUdXRvcmlhbA%3D%3D', 'https://www.youtube.com/watch?v=_6R7Ym6Vy_I&pp=ygUWR2VuZXJhdGl2ZSBBSSBUdXRvcmlhbA%3D%3D']\""
      ]
     },
     "execution_count": 10,
     "metadata": {},
     "output_type": "execute_result"
    }
   ],
   "source": [
    "tool.run(\"Generative AI Tutorial\")"
   ]
  },
  {
   "cell_type": "markdown",
   "metadata": {},
   "source": [
    "## Tavily Search Engine Tool"
   ]
  },
  {
   "cell_type": "code",
   "execution_count": 11,
   "metadata": {},
   "outputs": [
    {
     "name": "stderr",
     "output_type": "stream",
     "text": [
      "/var/folders/6p/ddx1yx2j547512yh8wlgztw00000gn/T/ipykernel_3194/105615743.py:7: LangChainDeprecationWarning: The class `TavilySearchResults` was deprecated in LangChain 0.3.25 and will be removed in 1.0. An updated version of the class exists in the :class:`~langchain-tavily package and should be used instead. To use it run `pip install -U :class:`~langchain-tavily` and import as `from :class:`~langchain_tavily import TavilySearch``.\n",
      "  tavily_search = TavilySearchResults()\n"
     ]
    }
   ],
   "source": [
    "from langchain_community.tools.tavily_search import TavilySearchResults\n",
    "from dotenv import load_dotenv\n",
    "import os\n",
    "\n",
    "load_dotenv()\n",
    "api_key = os.getenv(\"TAVILY_API_KEY\")\n",
    "tavily_search = TavilySearchResults()"
   ]
  },
  {
   "cell_type": "code",
   "execution_count": 12,
   "metadata": {},
   "outputs": [
    {
     "data": {
      "text/plain": [
       "[{'title': 'UnitedHealth Group Inc. Stock Quote (U.S. - UNH - MarketWatch',\n",
       "  'url': 'https://www.marketwatch.com/investing/stock/unh',\n",
       "  'content': \"Last Updated: Jul 18, 2025 7:59 p.m. EDT Delayed quote. $ 282.60. -0.05 -0.02 ... ' Analysts Maintain Buy on UnitedHealth Stock (UNH) Despite Price Target Cuts.\",\n",
       "  'score': 0.7568076},\n",
       " {'title': 'UNH - UnitedHealth Group Stock Price & News - Morningstar',\n",
       "  'url': 'https://www.morningstar.com/stocks/xnys/unh/quote',\n",
       "  'content': 'Price vs Fair Value. View History. UNH is trading at a 40% discount. Price. $282.65. Jul 18, 2025. Fair Value. $473.00. May 22, 2025. Uncertainty. High.',\n",
       "  'score': 0.7440808},\n",
       " {'title': 'UNH: UnitedHealth Group Inc - Stock Price, Quote and News - CNBC',\n",
       "  'url': 'https://www.cnbc.com/quotes/UNH',\n",
       "  'content': 'UnitedHealth Group Inc UNH:NYSE · Open287.89 · Day High288.07 · Day Low280.81 · Prev Close288.07 · 52 Week High630.73 · 52 Week High Date11/11/24 · 52 Week Low',\n",
       "  'score': 0.7171114},\n",
       " {'title': 'UnitedHealth Group Incorporated (UNH) Stock Price, News, Quote ...',\n",
       "  'url': 'https://finance.yahoo.com/quote/UNH/',\n",
       "  'content': 'Find the latest UnitedHealth Group Incorporated (UNH) stock quote, history, news and other vital information to help you with your stock',\n",
       "  'score': 0.47475353},\n",
       " {'title': 'UnitedHealth: UNH Stock Price Quote & News - Robinhood',\n",
       "  'url': 'https://robinhood.com/stocks/UNH',\n",
       "  'content': \"Mixed options sentiment in UnitedHealth (UNH), with shares down $2.75 near $289.74. Options volume running well above average with 132k contracts traded and cal...\\n\\nUnitedHealth Group (UNH) stock has plunged about 42% year-to-date, due to higher costs, primarily in the Medicare Advantage (MA) segment, an abrupt CEO exit, th...\\n\\n...\\n\\nElevance Health Stock Falls After Earnings. What It Means for UnitedHealth, Other Insurers. - Barron's\\n\\n## Analyst ratings\\n\\n## 69%\\n\\n## More UNH News [...] For approximately 15 years, or 60 quarters, UnitedHealth Group Inc. UNH has consistently reported better-than-expected quarterly earnings.\\nHowever, in the four...\\n\\nUnitedHealth's $3.3 Billion Asset Sales Helped Sustain 15-Year Earnings Streak Amid Pressure\\n\\nCVS Health (CVS) has secured a major healthcare deal, winning a multi-year pharmacy benefits contract with CalPERS, outbidding rival UnitedHealth (UNH). The dea... [...] UnitedHealth Group (UNH) is facing questions about how it maintained its streak of over 60 consecutive quarterly earnings beats. According to a Bloomberg report...\\n\\nWith a streak of 60 consecutive quarterly earnings beats under threat, UnitedHealth (NYSE:UNH) resorted to discreet sales of ownership stakes in its business un...\\n\\nUnitedHealth reportedly leaned on stealth transactions to continue earnings momentum\",\n",
       "  'score': 0.26585293}]"
      ]
     },
     "execution_count": 12,
     "metadata": {},
     "output_type": "execute_result"
    }
   ],
   "source": [
    "tavily_search.run(\"What is latest stock price of UHG\", api_key=api_key)"
   ]
  },
  {
   "cell_type": "markdown",
   "metadata": {},
   "source": [
    "## DuckDuck Search Engine Tool"
   ]
  },
  {
   "cell_type": "code",
   "execution_count": 13,
   "metadata": {},
   "outputs": [],
   "source": [
    "from langchain.tools import DuckDuckGoSearchRun\n",
    "searchTool = DuckDuckGoSearchRun()"
   ]
  },
  {
   "cell_type": "code",
   "execution_count": 15,
   "metadata": {},
   "outputs": [
    {
     "name": "stderr",
     "output_type": "stream",
     "text": [
      "/Users/mac/Desktop/Agentic-AI/venv-3-10/lib/python3.10/site-packages/langchain_community/utilities/duckduckgo_search.py:63: RuntimeWarning: This package (`duckduckgo_search`) has been renamed to `ddgs`! Use `pip install ddgs` instead.\n",
      "  with DDGS() as ddgs:\n"
     ]
    },
    {
     "data": {
      "text/plain": [
       "'Feb 20, 2024 · Machine learning uses data to teach AI systems to imitate the way that humans learn. They can find the signal in … Aug 22, 2023 · RAG is an AI framework for retrieving facts to ground LLMs on the most accurate information and to give users … Sep 19, 2018 · Machine learning models are increasingly used to inform high-stakes decisions about people. Although machine … May 9, 2022 · What makes these new systems foundation models is that they, as the name suggests, can be the foundation for many … Optimizing Machine Learning Accelerate popular Machine Learning algorithms through system awareness, and hardware/software …'"
      ]
     },
     "execution_count": 15,
     "metadata": {},
     "output_type": "execute_result"
    }
   ],
   "source": [
    "searchTool.invoke({\"query\": \"What is Machine learning?\"})"
   ]
  }
 ],
 "metadata": {
  "kernelspec": {
   "display_name": "venv-3-10",
   "language": "python",
   "name": "python3"
  },
  "language_info": {
   "codemirror_mode": {
    "name": "ipython",
    "version": 3
   },
   "file_extension": ".py",
   "mimetype": "text/x-python",
   "name": "python",
   "nbconvert_exporter": "python",
   "pygments_lexer": "ipython3",
   "version": "3.10.15"
  }
 },
 "nbformat": 4,
 "nbformat_minor": 2
}
