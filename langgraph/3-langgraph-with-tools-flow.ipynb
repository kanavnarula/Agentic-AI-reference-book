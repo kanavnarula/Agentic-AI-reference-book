{
 "cells": [
  {
   "cell_type": "code",
   "execution_count": 7,
   "id": "f2e9ded5",
   "metadata": {},
   "outputs": [],
   "source": [
    "import os\n",
    "from dotenv import load_dotenv\n",
    "from langchain_openai import ChatOpenAI\n",
    "from langchain_groq import ChatGroq\n",
    "from langchain.prompts import ChatPromptTemplate, BasePromptTemplate, PromptTemplate\n",
    "from langchain_core.output_parsers import StrOutputParser, JsonOutputParser\n",
    "from langchain.output_parsers.xml import XMLOutputParser\n",
    "from pydantic import BaseModel, Field\n",
    "\n",
    "## Text Loaders and Splitters\n",
    "from langchain.document_loaders import PyPDFLoader, WebBaseLoader, TextLoader, JSONLoader, UnstructuredXMLLoader, ArxivLoader, WikipediaLoader\n",
    "from langchain.text_splitter import RecursiveCharacterTextSplitter, CharacterTextSplitter, RecursiveJsonSplitter\n",
    "from langchain_core.documents import Document\n",
    "import bs4\n",
    "import requests\n",
    "\n",
    "## Embeddings\n",
    "from langchain_openai import OpenAIEmbeddings\n",
    "from langchain_huggingface import HuggingFaceEmbeddings\n",
    "# from sklearn.metrics.pairwise import cosine_similarity, euclidean_distances\n",
    "# import faiss\n",
    "from langchain_community.vectorstores import FAISS, Chroma\n",
    "from langchain_community.docstore.in_memory import InMemoryDocstore\n",
    "from langchain_google_genai import ChatGoogleGenerativeAI\n",
    "from langchain import hub\n",
    "# import pprintr\n",
    "from langchain_core.runnables import RunnablePassthrough\n",
    "\n",
    "from langchain.agents import tool\n",
    "from langchain_community.tools import WikipediaQueryRun, YouTubeSearchTool\n",
    "from langchain_community.utilities import WikipediaAPIWrapper\n",
    "from langchain_community.tools.tavily_search import TavilySearchResults\n",
    "from langchain.tools import DuckDuckGoSearchRun\n",
    "\n",
    "\n",
    "from langgraph.graph import StateGraph, END, MessagesState, START\n",
    "from IPython.display import Image, display\n",
    "import operator\n",
    "from typing_extensions import TypedDict\n",
    "from typing import Annotated, Sequence\n",
    "# from typing import TypedDict, Annotated, Sequence\n",
    "from langchain_core.messages import BaseMessage\n",
    "from langgraph.graph.message import add_messages\n",
    "from langchain_core.messages import HumanMessage, AIMessage, SystemMessage\n",
    "\n",
    "from langgraph.prebuilt import ToolNode\n"
   ]
  },
  {
   "cell_type": "code",
   "execution_count": 3,
   "id": "279c2e31",
   "metadata": {},
   "outputs": [
    {
     "data": {
      "text/plain": [
       "True"
      ]
     },
     "execution_count": 3,
     "metadata": {},
     "output_type": "execute_result"
    }
   ],
   "source": [
    "load_dotenv()"
   ]
  },
  {
   "cell_type": "code",
   "execution_count": 6,
   "id": "5fb2c76f",
   "metadata": {},
   "outputs": [
    {
     "data": {
      "text/plain": [
       "AIMessage(content='As of my last update, the Gross Domestic Product (GDP) of the United States was approximately $25 trillion in 2022. However, GDP figures are updated regularly and can vary based on the source and the specific time of measurement. For the most current GDP data, I recommend checking the latest reports from reliable sources such as the U.S. Bureau of Economic Analysis (BEA) or the World Bank.', additional_kwargs={'refusal': None}, response_metadata={'token_usage': {'completion_tokens': 83, 'prompt_tokens': 16, 'total_tokens': 99, 'completion_tokens_details': {'accepted_prediction_tokens': 0, 'audio_tokens': 0, 'reasoning_tokens': 0, 'rejected_prediction_tokens': 0}, 'prompt_tokens_details': {'audio_tokens': 0, 'cached_tokens': 0}}, 'model_name': 'gpt-4o-2024-08-06', 'system_fingerprint': 'fp_07871e2ad8', 'id': 'chatcmpl-C0pozTZoPuysYkKa3kiDN5Sau21kZ', 'service_tier': 'default', 'finish_reason': 'stop', 'logprobs': None}, id='run--a960d4d7-c11e-43fa-8c63-a4da785cdee1-0', usage_metadata={'input_tokens': 16, 'output_tokens': 83, 'total_tokens': 99, 'input_token_details': {'audio': 0, 'cache_read': 0}, 'output_token_details': {'audio': 0, 'reasoning': 0}})"
      ]
     },
     "execution_count": 6,
     "metadata": {},
     "output_type": "execute_result"
    }
   ],
   "source": [
    "model = ChatOpenAI(model=\"gpt-4o\", temperature=0.0, max_retries=3)\n",
    "model.invoke(\"What is the GPD of the USA?\")"
   ]
  },
  {
   "cell_type": "markdown",
   "id": "55b908a8",
   "metadata": {},
   "source": [
    "## TOOL 1"
   ]
  },
  {
   "cell_type": "code",
   "execution_count": 9,
   "id": "b8cb5f4f",
   "metadata": {},
   "outputs": [
    {
     "name": "stderr",
     "output_type": "stream",
     "text": [
      "/var/folders/6p/ddx1yx2j547512yh8wlgztw00000gn/T/ipykernel_18167/4280750209.py:2: LangChainDeprecationWarning: The class `TavilySearchResults` was deprecated in LangChain 0.3.25 and will be removed in 1.0. An updated version of the class exists in the :class:`~langchain-tavily package and should be used instead. To use it run `pip install -U :class:`~langchain-tavily` and import as `from :class:`~langchain_tavily import TavilySearch``.\n",
      "  tavily_tool = TavilySearchResults(api_key=key)\n"
     ]
    }
   ],
   "source": [
    "key = os.getenv(\"TAVILY_API_KEY\")\n",
    "tavily_tool = TavilySearchResults(api_key=key)"
   ]
  },
  {
   "cell_type": "code",
   "execution_count": 10,
   "id": "c1a33132",
   "metadata": {},
   "outputs": [],
   "source": [
    "tools = [tavily_tool]"
   ]
  },
  {
   "cell_type": "markdown",
   "id": "4c7cc8f7",
   "metadata": {},
   "source": [
    "## Tool Node 1"
   ]
  },
  {
   "cell_type": "code",
   "execution_count": 12,
   "id": "4e2a23f6",
   "metadata": {},
   "outputs": [],
   "source": [
    "tool_node = ToolNode(tools=tools)"
   ]
  },
  {
   "cell_type": "code",
   "execution_count": 13,
   "id": "91c604f8",
   "metadata": {},
   "outputs": [],
   "source": [
    "model_with_tools = model.bind_tools(tools)"
   ]
  },
  {
   "cell_type": "markdown",
   "id": "61148304",
   "metadata": {},
   "source": [
    "## Node 2"
   ]
  },
  {
   "cell_type": "code",
   "execution_count": 15,
   "id": "e6ed8d31",
   "metadata": {},
   "outputs": [],
   "source": [
    "def call_model(state: MessagesState) -> MessagesState:\n",
    "    messages = state[\"messages\"]\n",
    "\n",
    "    print(\"Messages before invoking model:\", messages)\n",
    "    response = model_with_tools.invoke(messages)\n",
    "\n",
    "    print(\"Model response:\", response)\n",
    "\n",
    "    return {\"messages\": [response]}"
   ]
  },
  {
   "cell_type": "code",
   "execution_count": 26,
   "id": "8a79bb4f",
   "metadata": {},
   "outputs": [],
   "source": [
    "def router(state: MessagesState) -> MessagesState:\n",
    "    messages = state[\"messages\"]\n",
    "    print(\"Router messages:\", messages)\n",
    "\n",
    "    message = messages[-1]\n",
    "\n",
    "    print(\"Last message:\", message)\n",
    "    print(\"Tool calls in last message:\", message.tool_calls)\n",
    "\n",
    "    if message.tool_calls:\n",
    "        return \"tools\"\n",
    "    return END"
   ]
  },
  {
   "cell_type": "code",
   "execution_count": 27,
   "id": "4b31eda7",
   "metadata": {},
   "outputs": [],
   "source": [
    "workflow = StateGraph(MessagesState)"
   ]
  },
  {
   "cell_type": "code",
   "execution_count": 28,
   "id": "28882f73",
   "metadata": {},
   "outputs": [
    {
     "data": {
      "text/plain": [
       "<langgraph.graph.state.StateGraph at 0x1254d6a70>"
      ]
     },
     "execution_count": 28,
     "metadata": {},
     "output_type": "execute_result"
    }
   ],
   "source": [
    "workflow.add_node(\"supervisor\", call_model)\n",
    "workflow.add_node(\"mytools\", tool_node)\n",
    "\n",
    "workflow.add_conditional_edges(\"supervisor\", router, {\n",
    "    \"tools\": \"mytools\",\n",
    "    END: END\n",
    "})\n",
    "\n",
    "workflow.add_edge(START, \"supervisor\")\n",
    "workflow.add_edge(\"mytools\", END)"
   ]
  },
  {
   "cell_type": "code",
   "execution_count": 29,
   "id": "19d394e0",
   "metadata": {},
   "outputs": [],
   "source": [
    "app = workflow.compile()"
   ]
  },
  {
   "cell_type": "code",
   "execution_count": 30,
   "id": "fc630445",
   "metadata": {},
   "outputs": [
    {
     "data": {
      "image/png": "[encoded data removed]",
      "text/plain": [
       "<IPython.core.display.Image object>"
      ]
     },
     "metadata": {},
     "output_type": "display_data"
    }
   ],
   "source": [
    "app = workflow.compile()\n",
    "display(Image(app.get_graph().draw_mermaid_png()))"
   ]
  },
  {
   "cell_type": "code",
   "execution_count": 31,
   "id": "c74fa564",
   "metadata": {},
   "outputs": [
    {
     "name": "stdout",
     "output_type": "stream",
     "text": [
      "Messages before invoking model: [HumanMessage(content='What is the GPD of the USA?', additional_kwargs={}, response_metadata={}, id='f302b8de-c504-46f2-a731-54407df06576')]\n",
      "Model response: content='' additional_kwargs={'tool_calls': [{'id': 'call_JWzNaOW2kpU5tyNa7Qrlbm0J', 'function': {'arguments': '{\"query\":\"current GDP of the USA 2023\"}', 'name': 'tavily_search_results_json'}, 'type': 'function'}], 'refusal': None} response_metadata={'token_usage': {'completion_tokens': 25, 'prompt_tokens': 88, 'total_tokens': 113, 'completion_tokens_details': {'accepted_prediction_tokens': 0, 'audio_tokens': 0, 'reasoning_tokens': 0, 'rejected_prediction_tokens': 0}, 'prompt_tokens_details': {'audio_tokens': 0, 'cached_tokens': 0}}, 'model_name': 'gpt-4o-2024-08-06', 'system_fingerprint': 'fp_a288987b44', 'id': 'chatcmpl-C0q3sdFX2eawuaUBakVyF6RO7KBwc', 'service_tier': 'default', 'finish_reason': 'tool_calls', 'logprobs': None} id='run--b8d54ff0-01d6-419e-b980-d91eef5e1a20-0' tool_calls=[{'name': 'tavily_search_results_json', 'args': {'query': 'current GDP of the USA 2023'}, 'id': 'call_JWzNaOW2kpU5tyNa7Qrlbm0J', 'type': 'tool_call'}] usage_metadata={'input_tokens': 88, 'output_tokens': 25, 'total_tokens': 113, 'input_token_details': {'audio': 0, 'cache_read': 0}, 'output_token_details': {'audio': 0, 'reasoning': 0}}\n",
      "Router messages: [HumanMessage(content='What is the GPD of the USA?', additional_kwargs={}, response_metadata={}, id='f302b8de-c504-46f2-a731-54407df06576'), AIMessage(content='', additional_kwargs={'tool_calls': [{'id': 'call_JWzNaOW2kpU5tyNa7Qrlbm0J', 'function': {'arguments': '{\"query\":\"current GDP of the USA 2023\"}', 'name': 'tavily_search_results_json'}, 'type': 'function'}], 'refusal': None}, response_metadata={'token_usage': {'completion_tokens': 25, 'prompt_tokens': 88, 'total_tokens': 113, 'completion_tokens_details': {'accepted_prediction_tokens': 0, 'audio_tokens': 0, 'reasoning_tokens': 0, 'rejected_prediction_tokens': 0}, 'prompt_tokens_details': {'audio_tokens': 0, 'cached_tokens': 0}}, 'model_name': 'gpt-4o-2024-08-06', 'system_fingerprint': 'fp_a288987b44', 'id': 'chatcmpl-C0q3sdFX2eawuaUBakVyF6RO7KBwc', 'service_tier': 'default', 'finish_reason': 'tool_calls', 'logprobs': None}, id='run--b8d54ff0-01d6-419e-b980-d91eef5e1a20-0', tool_calls=[{'name': 'tavily_search_results_json', 'args': {'query': 'current GDP of the USA 2023'}, 'id': 'call_JWzNaOW2kpU5tyNa7Qrlbm0J', 'type': 'tool_call'}], usage_metadata={'input_tokens': 88, 'output_tokens': 25, 'total_tokens': 113, 'input_token_details': {'audio': 0, 'cache_read': 0}, 'output_token_details': {'audio': 0, 'reasoning': 0}})]\n",
      "Last message: content='' additional_kwargs={'tool_calls': [{'id': 'call_JWzNaOW2kpU5tyNa7Qrlbm0J', 'function': {'arguments': '{\"query\":\"current GDP of the USA 2023\"}', 'name': 'tavily_search_results_json'}, 'type': 'function'}], 'refusal': None} response_metadata={'token_usage': {'completion_tokens': 25, 'prompt_tokens': 88, 'total_tokens': 113, 'completion_tokens_details': {'accepted_prediction_tokens': 0, 'audio_tokens': 0, 'reasoning_tokens': 0, 'rejected_prediction_tokens': 0}, 'prompt_tokens_details': {'audio_tokens': 0, 'cached_tokens': 0}}, 'model_name': 'gpt-4o-2024-08-06', 'system_fingerprint': 'fp_a288987b44', 'id': 'chatcmpl-C0q3sdFX2eawuaUBakVyF6RO7KBwc', 'service_tier': 'default', 'finish_reason': 'tool_calls', 'logprobs': None} id='run--b8d54ff0-01d6-419e-b980-d91eef5e1a20-0' tool_calls=[{'name': 'tavily_search_results_json', 'args': {'query': 'current GDP of the USA 2023'}, 'id': 'call_JWzNaOW2kpU5tyNa7Qrlbm0J', 'type': 'tool_call'}] usage_metadata={'input_tokens': 88, 'output_tokens': 25, 'total_tokens': 113, 'input_token_details': {'audio': 0, 'cache_read': 0}, 'output_token_details': {'audio': 0, 'reasoning': 0}}\n",
      "Tool calls in last message: [{'name': 'tavily_search_results_json', 'args': {'query': 'current GDP of the USA 2023'}, 'id': 'call_JWzNaOW2kpU5tyNa7Qrlbm0J', 'type': 'tool_call'}]\n"
     ]
    }
   ],
   "source": [
    "events = app.invoke({\"messages\": [\"What is the GPD of the USA?\"]})"
   ]
  },
  {
   "cell_type": "code",
   "execution_count": 37,
   "id": "638e5823",
   "metadata": {},
   "outputs": [],
   "source": [
    "events=app.stream(\n",
    "    {\"messages\":[\"in which city the temp was 25 degree?\"]},stream_mode=\"values\"\n",
    "    )"
   ]
  },
  {
   "cell_type": "code",
   "execution_count": 38,
   "id": "6068b320",
   "metadata": {},
   "outputs": [
    {
     "name": "stdout",
     "output_type": "stream",
     "text": [
      "================================\u001b[1m Human Message \u001b[0m=================================\n",
      "\n",
      "in which city the temp was 25 degree?\n",
      "Messages before invoking model: [HumanMessage(content='in which city the temp was 25 degree?', additional_kwargs={}, response_metadata={}, id='948611a6-0755-4f8f-94a1-cfe22f99c2a6')]\n"
     ]
    },
    {
     "name": "stdout",
     "output_type": "stream",
     "text": [
      "Model response: content='The temperature of 25 degrees can occur in many cities around the world, depending on the time of year and local climate conditions. To provide an accurate answer, I would need to know the specific date or time frame you are interested in. Additionally, temperatures can vary throughout the day, so specifying whether you mean 25 degrees Celsius or Fahrenheit would also be helpful. If you have a specific date or location in mind, please let me know!' additional_kwargs={'refusal': None} response_metadata={'token_usage': {'completion_tokens': 90, 'prompt_tokens': 89, 'total_tokens': 179, 'completion_tokens_details': {'accepted_prediction_tokens': 0, 'audio_tokens': 0, 'reasoning_tokens': 0, 'rejected_prediction_tokens': 0}, 'prompt_tokens_details': {'audio_tokens': 0, 'cached_tokens': 0}}, 'model_name': 'gpt-4o-2024-08-06', 'system_fingerprint': 'fp_07871e2ad8', 'id': 'chatcmpl-C0q5ekDKF70KwzS2XMcxU0YnDTQ1T', 'service_tier': 'default', 'finish_reason': 'stop', 'logprobs': None} id='run--2c548c34-78dc-4176-a498-0c3449d5fff1-0' usage_metadata={'input_tokens': 89, 'output_tokens': 90, 'total_tokens': 179, 'input_token_details': {'audio': 0, 'cache_read': 0}, 'output_token_details': {'audio': 0, 'reasoning': 0}}\n",
      "Router messages: [HumanMessage(content='in which city the temp was 25 degree?', additional_kwargs={}, response_metadata={}, id='948611a6-0755-4f8f-94a1-cfe22f99c2a6'), AIMessage(content='The temperature of 25 degrees can occur in many cities around the world, depending on the time of year and local climate conditions. To provide an accurate answer, I would need to know the specific date or time frame you are interested in. Additionally, temperatures can vary throughout the day, so specifying whether you mean 25 degrees Celsius or Fahrenheit would also be helpful. If you have a specific date or location in mind, please let me know!', additional_kwargs={'refusal': None}, response_metadata={'token_usage': {'completion_tokens': 90, 'prompt_tokens': 89, 'total_tokens': 179, 'completion_tokens_details': {'accepted_prediction_tokens': 0, 'audio_tokens': 0, 'reasoning_tokens': 0, 'rejected_prediction_tokens': 0}, 'prompt_tokens_details': {'audio_tokens': 0, 'cached_tokens': 0}}, 'model_name': 'gpt-4o-2024-08-06', 'system_fingerprint': 'fp_07871e2ad8', 'id': 'chatcmpl-C0q5ekDKF70KwzS2XMcxU0YnDTQ1T', 'service_tier': 'default', 'finish_reason': 'stop', 'logprobs': None}, id='run--2c548c34-78dc-4176-a498-0c3449d5fff1-0', usage_metadata={'input_tokens': 89, 'output_tokens': 90, 'total_tokens': 179, 'input_token_details': {'audio': 0, 'cache_read': 0}, 'output_token_details': {'audio': 0, 'reasoning': 0}})]\n",
      "Last message: content='The temperature of 25 degrees can occur in many cities around the world, depending on the time of year and local climate conditions. To provide an accurate answer, I would need to know the specific date or time frame you are interested in. Additionally, temperatures can vary throughout the day, so specifying whether you mean 25 degrees Celsius or Fahrenheit would also be helpful. If you have a specific date or location in mind, please let me know!' additional_kwargs={'refusal': None} response_metadata={'token_usage': {'completion_tokens': 90, 'prompt_tokens': 89, 'total_tokens': 179, 'completion_tokens_details': {'accepted_prediction_tokens': 0, 'audio_tokens': 0, 'reasoning_tokens': 0, 'rejected_prediction_tokens': 0}, 'prompt_tokens_details': {'audio_tokens': 0, 'cached_tokens': 0}}, 'model_name': 'gpt-4o-2024-08-06', 'system_fingerprint': 'fp_07871e2ad8', 'id': 'chatcmpl-C0q5ekDKF70KwzS2XMcxU0YnDTQ1T', 'service_tier': 'default', 'finish_reason': 'stop', 'logprobs': None} id='run--2c548c34-78dc-4176-a498-0c3449d5fff1-0' usage_metadata={'input_tokens': 89, 'output_tokens': 90, 'total_tokens': 179, 'input_token_details': {'audio': 0, 'cache_read': 0}, 'output_token_details': {'audio': 0, 'reasoning': 0}}\n",
      "Tool calls in last message: []\n",
      "==================================\u001b[1m Ai Message \u001b[0m==================================\n",
      "\n",
      "The temperature of 25 degrees can occur in many cities around the world, depending on the time of year and local climate conditions. To provide an accurate answer, I would need to know the specific date or time frame you are interested in. Additionally, temperatures can vary throughout the day, so specifying whether you mean 25 degrees Celsius or Fahrenheit would also be helpful. If you have a specific date or location in mind, please let me know!\n"
     ]
    }
   ],
   "source": [
    "for event in events:\n",
    "    event[\"messages\"][-1].pretty_print()"
   ]
  },
  {
   "cell_type": "code",
   "execution_count": 33,
   "id": "b1bc02a8",
   "metadata": {},
   "outputs": [
    {
     "name": "stdout",
     "output_type": "stream",
     "text": [
      "Messages before invoking model: [HumanMessage(content='what is a weather in new delhi?', additional_kwargs={}, response_metadata={}, id='a8577c07-3899-4057-a5d5-a71cb31d9702')]\n",
      "Model response: content='' additional_kwargs={'tool_calls': [{'id': 'call_6tuPU8yubcXoKWmI5HIdtwtc', 'function': {'arguments': '{\"query\":\"current weather in New Delhi\"}', 'name': 'tavily_search_results_json'}, 'type': 'function'}], 'refusal': None} response_metadata={'token_usage': {'completion_tokens': 22, 'prompt_tokens': 88, 'total_tokens': 110, 'completion_tokens_details': {'accepted_prediction_tokens': 0, 'audio_tokens': 0, 'reasoning_tokens': 0, 'rejected_prediction_tokens': 0}, 'prompt_tokens_details': {'audio_tokens': 0, 'cached_tokens': 0}}, 'model_name': 'gpt-4o-2024-08-06', 'system_fingerprint': 'fp_a288987b44', 'id': 'chatcmpl-C0q4isBeaCpEq7KNzwtGFk9VJGLqL', 'service_tier': 'default', 'finish_reason': 'tool_calls', 'logprobs': None} id='run--85ccabe7-40d1-449b-b0e8-755cff91f619-0' tool_calls=[{'name': 'tavily_search_results_json', 'args': {'query': 'current weather in New Delhi'}, 'id': 'call_6tuPU8yubcXoKWmI5HIdtwtc', 'type': 'tool_call'}] usage_metadata={'input_tokens': 88, 'output_tokens': 22, 'total_tokens': 110, 'input_token_details': {'audio': 0, 'cache_read': 0}, 'output_token_details': {'audio': 0, 'reasoning': 0}}\n",
      "Router messages: [HumanMessage(content='what is a weather in new delhi?', additional_kwargs={}, response_metadata={}, id='a8577c07-3899-4057-a5d5-a71cb31d9702'), AIMessage(content='', additional_kwargs={'tool_calls': [{'id': 'call_6tuPU8yubcXoKWmI5HIdtwtc', 'function': {'arguments': '{\"query\":\"current weather in New Delhi\"}', 'name': 'tavily_search_results_json'}, 'type': 'function'}], 'refusal': None}, response_metadata={'token_usage': {'completion_tokens': 22, 'prompt_tokens': 88, 'total_tokens': 110, 'completion_tokens_details': {'accepted_prediction_tokens': 0, 'audio_tokens': 0, 'reasoning_tokens': 0, 'rejected_prediction_tokens': 0}, 'prompt_tokens_details': {'audio_tokens': 0, 'cached_tokens': 0}}, 'model_name': 'gpt-4o-2024-08-06', 'system_fingerprint': 'fp_a288987b44', 'id': 'chatcmpl-C0q4isBeaCpEq7KNzwtGFk9VJGLqL', 'service_tier': 'default', 'finish_reason': 'tool_calls', 'logprobs': None}, id='run--85ccabe7-40d1-449b-b0e8-755cff91f619-0', tool_calls=[{'name': 'tavily_search_results_json', 'args': {'query': 'current weather in New Delhi'}, 'id': 'call_6tuPU8yubcXoKWmI5HIdtwtc', 'type': 'tool_call'}], usage_metadata={'input_tokens': 88, 'output_tokens': 22, 'total_tokens': 110, 'input_token_details': {'audio': 0, 'cache_read': 0}, 'output_token_details': {'audio': 0, 'reasoning': 0}})]\n",
      "Last message: content='' additional_kwargs={'tool_calls': [{'id': 'call_6tuPU8yubcXoKWmI5HIdtwtc', 'function': {'arguments': '{\"query\":\"current weather in New Delhi\"}', 'name': 'tavily_search_results_json'}, 'type': 'function'}], 'refusal': None} response_metadata={'token_usage': {'completion_tokens': 22, 'prompt_tokens': 88, 'total_tokens': 110, 'completion_tokens_details': {'accepted_prediction_tokens': 0, 'audio_tokens': 0, 'reasoning_tokens': 0, 'rejected_prediction_tokens': 0}, 'prompt_tokens_details': {'audio_tokens': 0, 'cached_tokens': 0}}, 'model_name': 'gpt-4o-2024-08-06', 'system_fingerprint': 'fp_a288987b44', 'id': 'chatcmpl-C0q4isBeaCpEq7KNzwtGFk9VJGLqL', 'service_tier': 'default', 'finish_reason': 'tool_calls', 'logprobs': None} id='run--85ccabe7-40d1-449b-b0e8-755cff91f619-0' tool_calls=[{'name': 'tavily_search_results_json', 'args': {'query': 'current weather in New Delhi'}, 'id': 'call_6tuPU8yubcXoKWmI5HIdtwtc', 'type': 'tool_call'}] usage_metadata={'input_tokens': 88, 'output_tokens': 22, 'total_tokens': 110, 'input_token_details': {'audio': 0, 'cache_read': 0}, 'output_token_details': {'audio': 0, 'reasoning': 0}}\n",
      "Tool calls in last message: [{'name': 'tavily_search_results_json', 'args': {'query': 'current weather in New Delhi'}, 'id': 'call_6tuPU8yubcXoKWmI5HIdtwtc', 'type': 'tool_call'}]\n",
      "here is output from supervisor\n",
      "_______\n",
      "{'messages': [AIMessage(content='', additional_kwargs={'tool_calls': [{'id': 'call_6tuPU8yubcXoKWmI5HIdtwtc', 'function': {'arguments': '{\"query\":\"current weather in New Delhi\"}', 'name': 'tavily_search_results_json'}, 'type': 'function'}], 'refusal': None}, response_metadata={'token_usage': {'completion_tokens': 22, 'prompt_tokens': 88, 'total_tokens': 110, 'completion_tokens_details': {'accepted_prediction_tokens': 0, 'audio_tokens': 0, 'reasoning_tokens': 0, 'rejected_prediction_tokens': 0}, 'prompt_tokens_details': {'audio_tokens': 0, 'cached_tokens': 0}}, 'model_name': 'gpt-4o-2024-08-06', 'system_fingerprint': 'fp_a288987b44', 'id': 'chatcmpl-C0q4isBeaCpEq7KNzwtGFk9VJGLqL', 'service_tier': 'default', 'finish_reason': 'tool_calls', 'logprobs': None}, id='run--85ccabe7-40d1-449b-b0e8-755cff91f619-0', tool_calls=[{'name': 'tavily_search_results_json', 'args': {'query': 'current weather in New Delhi'}, 'id': 'call_6tuPU8yubcXoKWmI5HIdtwtc', 'type': 'tool_call'}], usage_metadata={'input_tokens': 88, 'output_tokens': 22, 'total_tokens': 110, 'input_token_details': {'audio': 0, 'cache_read': 0}, 'output_token_details': {'audio': 0, 'reasoning': 0}})]}\n",
      "\n",
      "\n",
      "here is output from mytools\n",
      "_______\n",
      "{'messages': [ToolMessage(content='[{\"title\": \"New Delhi 14 Day Extended Forecast - Weather - Time and Date\", \"url\": \"https://www.timeanddate.com/weather/india/new-delhi/ext\", \"content\": \"| \\\\\\\\ Updated Monday, August 4, 2025 2:54:03 pm New Delhi time - Weather by CustomWeather, © 2025 | | | | | | | | | | | | | [...] |  | Conditions | | | Comfort | | | | Precipitation | | Sun | | |\\\\n| --- | --- | --- | --- | --- | --- | --- | --- | --- | --- | --- | --- | --- |\\\\n| Day |  | Temperature | Weather | Feels Like | Wind |  | Humidity | Chance | Amount | UV | Sunrise | Sunset |\\\\n| Mon Aug 4 |  | 91 / 82 °F | Passing showers. Overcast. | 105 °F | 5 mph | ↑ | 69% | 64% | 0.16\\\\\" | 3 (Moderate) | 5:44 am | 7:09 pm | [...] | Tue Aug 5 |  | 86 / 79 °F | Thundershowers. Overcast. | 98 °F | 8 mph | ↑ | 80% | 73% | 0.32\\\\\" | 3 (Moderate) | 5:44 am | 7:09 pm |\\\\n| Wed Aug 6 |  | 86 / 79 °F | Passing showers. Overcast. | 96 °F | 5 mph | ↑ | 79% | 51% | 0.11\\\\\" | 3 (Moderate) | 5:45 am | 7:08 pm |\\\\n| Thu Aug 7 |  | 93 / 79 °F | Passing showers. Broken clouds. | 108 °F | 10 mph | ↑ | 63% | 40% | 0.03\\\\\" | 7 (High) | 5:46 am | 7:07 pm |\", \"score\": 0.76701033}, {\"title\": \"Delhi Weather Today, Delhi Temperature and Air Quality (2025-08-04)\", \"url\": \"https://www.indiatoday.in/weather/delhi-weather-forecast-today\", \"content\": \"The minimum temperature in Delhi today is likely to hover around 26 degrees Celsius, while the maximum temperature might reach 34 degrees Celsius. The mercury level is expected to hover around 34 degrees Celsius throughout the day, with the wind speed around 3.82. The wind will move around 261 degrees with a gust speed of 8.34. The sunrise time is 05:44 AM, while it will set at 07:10 PM on Monday. As per the seven-day weather prediction, the temperature in Delhi is likely to reach 34 degrees [...] ### TRENDING TOPICS\\\\n\\\\n### Download App\\\\n\\\\n# Delhi Weather Today (Monday, Aug 04, 2025)\\\\n\\\\nWeather Icon\\\\nmin\\\\nmax\\\\nrise\\\\nset\\\\nhumdity\\\\npressure\\\\nlon\\\\nlat\\\\nspeed\\\\ndeg\\\\ngust\\\\nRain\\\\nRain\\\\nRain\\\\nClouds\\\\nRain\\\\nRain\\\\nRain\\\\n\\\\n## Weather In Delhi [...] Celsius on Monday, 31 degrees Celsius on Tuesday, 29 degrees Celsius on Wednesday, 38 degrees Celsius on Thursday, 39 degrees Celsius on Friday, 30 degrees Celsius on Saturday and 34 degrees Celsius on Sunday.\", \"score\": 0.7445268}, {\"title\": \"Delhi weather in August 2025 | Delhi 14 day weather - Weather25.com\", \"url\": \"https://www.weather25.com/asia/india/delhi?page=month&month=August\", \"content\": \"| 24 Partly cloudy 35° /28° | 25 Partly cloudy 37° /29° | 26 Partly cloudy 37° /28° | 27 Partly cloudy 36° /28° | 28 Partly cloudy 37° /28° | 29 Light rain shower 37° /28° | 30 Cloudy 36° /28° |\\\\n| 31 Partly cloudy 37° /29° |  |  |  |  |  |  | [...] | Sun | Mon | Tue | Wed | Thu | Fri | Sat |\\\\n| --- | --- | --- | --- | --- | --- | --- |\\\\n|  |  |  |  |  | 1 Moderate or heavy rain shower 36° /28° | 2 Light rain shower 37° /29° |\\\\n| 3 Patchy rain possible 35° /28° | 4 Patchy light drizzle 36° /29° | 5 Light rain 28° /26° | 6 Light rain shower 27° /26° | 7 Partly cloudy 38° /27° | 8 Patchy rain possible 38° /28° | 9 Patchy light rain with thunder 32° /26° | [...] Moderate or heavy rain shower\\\\nLight rain shower\\\\nPatchy rain possible\\\\nPatchy light drizzle\\\\nLight rain\\\\nLight rain shower\\\\nPartly cloudy\\\\nPatchy rain possible\\\\nPatchy light rain with thunder\\\\nPatchy light drizzle\\\\nLight rain shower\\\\nCloudy\\\\nLight rain shower\\\\nLight drizzle\\\\nModerate or heavy rain shower\\\\nPatchy rain possible\\\\nLight rain shower\\\\nPartly cloudy\\\\nPatchy rain possible\\\\nPatchy rain possible\\\\nLight rain shower\\\\nPatchy rain possible\\\\nPatchy rain possible\\\\nPartly cloudy\\\\nPartly cloudy\\\\nPartly cloudy\", \"score\": 0.64826655}, {\"title\": \"2025 - New Delhi, Delhi, India Monthly Weather | AccuWeather\", \"url\": \"https://www.accuweather.com/en/in/new-delhi/187745/august-weather/187745\", \"content\": \"3 days ago\\\\n\\\\nWeather Forecasts\\\\n\\\\nBuilding western US heat dome may set records, cause fires to surge\\\\n\\\\n4 hours ago\\\\n\\\\nFeatured Stories\\\\n\\\\nWeather News\\\\n\\\\nWeather sparks firefly mania, but will it last?\\\\n\\\\n2 days ago\\\\n\\\\nClearing the air: Heat index of 182 degrees in Iran likely false\\\\n\\\\nLATEST ENTRY\\\\n\\\\nHeat index challenges world record, but is it real?\\\\n\\\\n2 days ago\\\\n\\\\nTravel\\\\n\\\\nUS Navy F-35 crashes in California, pilot ejects safely\\\\n\\\\n4 days ago\\\\n\\\\nSevere Weather\\\\n\\\\nHow to tell how far away lightning is by counting [...] 3 days ago\\\\n\\\\nTravel\\\\n\\\\nFlights at UK airports hit by major technical issue\\\\n\\\\n4 days ago\\\\n\\\\n## Weather Near New Delhi:\\\\n\\\\n...\\\\n\\\\n...\\\\n\\\\n... [...] # New Delhi, Delhi\\\\n\\\\nNew Delhi\\\\n\\\\nDelhi\\\\n\\\\n## Around the Globe\\\\n\\\\nAround the Globe\\\\n\\\\n### Hurricane Tracker\\\\n\\\\n### Severe Weather\\\\n\\\\n### Radar & Maps\\\\n\\\\n### News & Features\\\\n\\\\n### Astronomy\\\\n\\\\n### Business\\\\n\\\\n### Climate\\\\n\\\\n### Health\\\\n\\\\n### Recreation\\\\n\\\\n### Sports\\\\n\\\\n### Travel\\\\n\\\\n### Warnings\\\\n\\\\n### Data Suite\\\\n\\\\n### Forensics\\\\n\\\\n### Advertising\\\\n\\\\n### Superior Accuracy™\\\\n\\\\n### Video\\\\n\\\\n## Monthly\\\\n\\\\n## August\\\\n\\\\n## 2025\\\\n\\\\n## Daily\\\\n\\\\n## Temperature Graph\\\\n\\\\n## Further Ahead\\\\n\\\\nFurther Ahead\\\\n\\\\n### September 2025\\\\n\\\\n### October 2025\", \"score\": 0.49611887}, {\"title\": \"Delhi, Delhi, India Monthly Weather - AccuWeather\", \"url\": \"https://www.accuweather.com/en/in/delhi/202396/april-weather/202396\", \"content\": \"# Delhi, Delhi\\\\n\\\\nDelhi\\\\n\\\\nDelhi\\\\n\\\\n## Around the Globe\\\\n\\\\nAround the Globe\\\\n\\\\n### Hurricane Tracker\\\\n\\\\n### Severe Weather\\\\n\\\\n### Radar & Maps\\\\n\\\\n### News & Features\\\\n\\\\n### Astronomy\\\\n\\\\n### Business\\\\n\\\\n### Climate\\\\n\\\\n### Health\\\\n\\\\n### Recreation\\\\n\\\\n### Sports\\\\n\\\\n### Travel\\\\n\\\\n### Warnings\\\\n\\\\n### Data Suite\\\\n\\\\n### Forensics\\\\n\\\\n### Advertising\\\\n\\\\n### Superior Accuracy™\\\\n\\\\n### Video\\\\n\\\\n## Monthly\\\\n\\\\n## April\\\\n\\\\n## 2025\\\\n\\\\n## Daily\\\\n\\\\n## Temperature Graph\\\\n\\\\n## Further Ahead\\\\n\\\\nFurther Ahead\\\\n\\\\n### May 2025\\\\n\\\\n### June 2025\\\\n\\\\n### July 2025 [...] Weather Forecasts\\\\n\\\\nBuilding western US heat dome may set records, cause fires to surge\\\\n\\\\n4 hours ago\\\\n\\\\nFeatured Stories\\\\n\\\\nWeather News\\\\n\\\\nWeather sparks firefly mania, but will it last?\\\\n\\\\n2 days ago\\\\n\\\\nClearing the air: Heat index of 182 degrees in Iran likely false\\\\n\\\\nLATEST ENTRY\\\\n\\\\nHeat index challenges world record, but is it real?\\\\n\\\\n2 days ago\\\\n\\\\nTravel\\\\n\\\\nUS Navy F-35 crashes in California, pilot ejects safely\\\\n\\\\n4 days ago\\\\n\\\\nSevere Weather\\\\n\\\\nHow to tell how far away lightning is by counting\\\\n\\\\n3 days ago [...] ## Around the Globe\\\\n\\\\nAround the Globe\\\\n\\\\n### Hurricane Tracker\\\\n\\\\n### Severe Weather\\\\n\\\\n### Radar & Maps\\\\n\\\\n### News\\\\n\\\\n### Video\\\\n\\\\nTop Stories\\\\n\\\\nWeather News\\\\n\\\\nNortheast\\'s weather fate this week depends on dry air wedge\\\\n\\\\n4 hours ago\\\\n\\\\nSevere Weather\\\\n\\\\nMultiday severe risk to set up across the Plains\\\\n\\\\n40 minutes ago\\\\n\\\\nSevere Weather\\\\n\\\\nTorrential downpours to pose dangerous flash flood risk in Southeast\\\\n\\\\n4 hours ago\\\\n\\\\nAstronomy\\\\n\\\\n3 big astronomy events packed into 1 week in August sky\\\\n\\\\n3 days ago\", \"score\": 0.38324937}]', name='tavily_search_results_json', id='f35b484d-866b-4af1-a81e-5f04ff9dca8a', tool_call_id='call_6tuPU8yubcXoKWmI5HIdtwtc', artifact={'query': 'current weather in New Delhi', 'follow_up_questions': None, 'answer': None, 'images': [], 'results': [{'url': 'https://www.timeanddate.com/weather/india/new-delhi/ext', 'title': 'New Delhi 14 Day Extended Forecast - Weather - Time and Date', 'content': '| \\\\ Updated Monday, August 4, 2025 2:54:03 pm New Delhi time - Weather by CustomWeather, © 2025 | | | | | | | | | | | | | [...] |  | Conditions | | | Comfort | | | | Precipitation | | Sun | | |\\n| --- | --- | --- | --- | --- | --- | --- | --- | --- | --- | --- | --- | --- |\\n| Day |  | Temperature | Weather | Feels Like | Wind |  | Humidity | Chance | Amount | UV | Sunrise | Sunset |\\n| Mon Aug 4 |  | 91 / 82 °F | Passing showers. Overcast. | 105 °F | 5 mph | ↑ | 69% | 64% | 0.16\" | 3 (Moderate) | 5:44 am | 7:09 pm | [...] | Tue Aug 5 |  | 86 / 79 °F | Thundershowers. Overcast. | 98 °F | 8 mph | ↑ | 80% | 73% | 0.32\" | 3 (Moderate) | 5:44 am | 7:09 pm |\\n| Wed Aug 6 |  | 86 / 79 °F | Passing showers. Overcast. | 96 °F | 5 mph | ↑ | 79% | 51% | 0.11\" | 3 (Moderate) | 5:45 am | 7:08 pm |\\n| Thu Aug 7 |  | 93 / 79 °F | Passing showers. Broken clouds. | 108 °F | 10 mph | ↑ | 63% | 40% | 0.03\" | 7 (High) | 5:46 am | 7:07 pm |', 'score': 0.76701033, 'raw_content': None}, {'url': 'https://www.indiatoday.in/weather/delhi-weather-forecast-today', 'title': 'Delhi Weather Today, Delhi Temperature and Air Quality (2025-08-04)', 'content': 'The minimum temperature in Delhi today is likely to hover around 26 degrees Celsius, while the maximum temperature might reach 34 degrees Celsius. The mercury level is expected to hover around 34 degrees Celsius throughout the day, with the wind speed around 3.82. The wind will move around 261 degrees with a gust speed of 8.34. The sunrise time is 05:44 AM, while it will set at 07:10 PM on Monday. As per the seven-day weather prediction, the temperature in Delhi is likely to reach 34 degrees [...] ### TRENDING TOPICS\\n\\n### Download App\\n\\n# Delhi Weather Today (Monday, Aug 04, 2025)\\n\\nWeather Icon\\nmin\\nmax\\nrise\\nset\\nhumdity\\npressure\\nlon\\nlat\\nspeed\\ndeg\\ngust\\nRain\\nRain\\nRain\\nClouds\\nRain\\nRain\\nRain\\n\\n## Weather In Delhi [...] Celsius on Monday, 31 degrees Celsius on Tuesday, 29 degrees Celsius on Wednesday, 38 degrees Celsius on Thursday, 39 degrees Celsius on Friday, 30 degrees Celsius on Saturday and 34 degrees Celsius on Sunday.', 'score': 0.7445268, 'raw_content': None}, {'url': 'https://www.weather25.com/asia/india/delhi?page=month&month=August', 'title': 'Delhi weather in August 2025 | Delhi 14 day weather - Weather25.com', 'content': '| 24 Partly cloudy 35° /28° | 25 Partly cloudy 37° /29° | 26 Partly cloudy 37° /28° | 27 Partly cloudy 36° /28° | 28 Partly cloudy 37° /28° | 29 Light rain shower 37° /28° | 30 Cloudy 36° /28° |\\n| 31 Partly cloudy 37° /29° |  |  |  |  |  |  | [...] | Sun | Mon | Tue | Wed | Thu | Fri | Sat |\\n| --- | --- | --- | --- | --- | --- | --- |\\n|  |  |  |  |  | 1 Moderate or heavy rain shower 36° /28° | 2 Light rain shower 37° /29° |\\n| 3 Patchy rain possible 35° /28° | 4 Patchy light drizzle 36° /29° | 5 Light rain 28° /26° | 6 Light rain shower 27° /26° | 7 Partly cloudy 38° /27° | 8 Patchy rain possible 38° /28° | 9 Patchy light rain with thunder 32° /26° | [...] Moderate or heavy rain shower\\nLight rain shower\\nPatchy rain possible\\nPatchy light drizzle\\nLight rain\\nLight rain shower\\nPartly cloudy\\nPatchy rain possible\\nPatchy light rain with thunder\\nPatchy light drizzle\\nLight rain shower\\nCloudy\\nLight rain shower\\nLight drizzle\\nModerate or heavy rain shower\\nPatchy rain possible\\nLight rain shower\\nPartly cloudy\\nPatchy rain possible\\nPatchy rain possible\\nLight rain shower\\nPatchy rain possible\\nPatchy rain possible\\nPartly cloudy\\nPartly cloudy\\nPartly cloudy', 'score': 0.64826655, 'raw_content': None}, {'url': 'https://www.accuweather.com/en/in/new-delhi/187745/august-weather/187745', 'title': '2025 - New Delhi, Delhi, India Monthly Weather | AccuWeather', 'content': '3 days ago\\n\\nWeather Forecasts\\n\\nBuilding western US heat dome may set records, cause fires to surge\\n\\n4 hours ago\\n\\nFeatured Stories\\n\\nWeather News\\n\\nWeather sparks firefly mania, but will it last?\\n\\n2 days ago\\n\\nClearing the air: Heat index of 182 degrees in Iran likely false\\n\\nLATEST ENTRY\\n\\nHeat index challenges world record, but is it real?\\n\\n2 days ago\\n\\nTravel\\n\\nUS Navy F-35 crashes in California, pilot ejects safely\\n\\n4 days ago\\n\\nSevere Weather\\n\\nHow to tell how far away lightning is by counting [...] 3 days ago\\n\\nTravel\\n\\nFlights at UK airports hit by major technical issue\\n\\n4 days ago\\n\\n## Weather Near New Delhi:\\n\\n...\\n\\n...\\n\\n... [...] # New Delhi, Delhi\\n\\nNew Delhi\\n\\nDelhi\\n\\n## Around the Globe\\n\\nAround the Globe\\n\\n### Hurricane Tracker\\n\\n### Severe Weather\\n\\n### Radar & Maps\\n\\n### News & Features\\n\\n### Astronomy\\n\\n### Business\\n\\n### Climate\\n\\n### Health\\n\\n### Recreation\\n\\n### Sports\\n\\n### Travel\\n\\n### Warnings\\n\\n### Data Suite\\n\\n### Forensics\\n\\n### Advertising\\n\\n### Superior Accuracy™\\n\\n### Video\\n\\n## Monthly\\n\\n## August\\n\\n## 2025\\n\\n## Daily\\n\\n## Temperature Graph\\n\\n## Further Ahead\\n\\nFurther Ahead\\n\\n### September 2025\\n\\n### October 2025', 'score': 0.49611887, 'raw_content': None}, {'url': 'https://www.accuweather.com/en/in/delhi/202396/april-weather/202396', 'title': 'Delhi, Delhi, India Monthly Weather - AccuWeather', 'content': \"# Delhi, Delhi\\n\\nDelhi\\n\\nDelhi\\n\\n## Around the Globe\\n\\nAround the Globe\\n\\n### Hurricane Tracker\\n\\n### Severe Weather\\n\\n### Radar & Maps\\n\\n### News & Features\\n\\n### Astronomy\\n\\n### Business\\n\\n### Climate\\n\\n### Health\\n\\n### Recreation\\n\\n### Sports\\n\\n### Travel\\n\\n### Warnings\\n\\n### Data Suite\\n\\n### Forensics\\n\\n### Advertising\\n\\n### Superior Accuracy™\\n\\n### Video\\n\\n## Monthly\\n\\n## April\\n\\n## 2025\\n\\n## Daily\\n\\n## Temperature Graph\\n\\n## Further Ahead\\n\\nFurther Ahead\\n\\n### May 2025\\n\\n### June 2025\\n\\n### July 2025 [...] Weather Forecasts\\n\\nBuilding western US heat dome may set records, cause fires to surge\\n\\n4 hours ago\\n\\nFeatured Stories\\n\\nWeather News\\n\\nWeather sparks firefly mania, but will it last?\\n\\n2 days ago\\n\\nClearing the air: Heat index of 182 degrees in Iran likely false\\n\\nLATEST ENTRY\\n\\nHeat index challenges world record, but is it real?\\n\\n2 days ago\\n\\nTravel\\n\\nUS Navy F-35 crashes in California, pilot ejects safely\\n\\n4 days ago\\n\\nSevere Weather\\n\\nHow to tell how far away lightning is by counting\\n\\n3 days ago [...] ## Around the Globe\\n\\nAround the Globe\\n\\n### Hurricane Tracker\\n\\n### Severe Weather\\n\\n### Radar & Maps\\n\\n### News\\n\\n### Video\\n\\nTop Stories\\n\\nWeather News\\n\\nNortheast's weather fate this week depends on dry air wedge\\n\\n4 hours ago\\n\\nSevere Weather\\n\\nMultiday severe risk to set up across the Plains\\n\\n40 minutes ago\\n\\nSevere Weather\\n\\nTorrential downpours to pose dangerous flash flood risk in Southeast\\n\\n4 hours ago\\n\\nAstronomy\\n\\n3 big astronomy events packed into 1 week in August sky\\n\\n3 days ago\", 'score': 0.38324937, 'raw_content': None}], 'response_time': 4.78})]}\n",
      "\n",
      "\n"
     ]
    }
   ],
   "source": [
    "for output in app.stream({\"messages\":[\"what is a weather in new delhi?\"]}):\n",
    "    for key,value in output.items():\n",
    "        print(f\"here is output from {key}\")\n",
    "        print(\"_______\")\n",
    "        print(value)\n",
    "        print(\"\\n\")"
   ]
  }
 ],
 "metadata": {
  "kernelspec": {
   "display_name": "venv-3-10 (3.10.15)",
   "language": "python",
   "name": "python3"
  },
  "language_info": {
   "codemirror_mode": {
    "name": "ipython",
    "version": 3
   },
   "file_extension": ".py",
   "mimetype": "text/x-python",
   "name": "python",
   "nbconvert_exporter": "python",
   "pygments_lexer": "ipython3",
   "version": "3.10.15"
  }
 },
 "nbformat": 4,
 "nbformat_minor": 5
}
