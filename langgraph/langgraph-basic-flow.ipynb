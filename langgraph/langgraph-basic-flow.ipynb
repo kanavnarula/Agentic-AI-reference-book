{
 "cells": [
  {
   "cell_type": "code",
   "execution_count": 1,
   "id": "3c6166bb",
   "metadata": {},
   "outputs": [],
   "source": [
    "from dotenv import load_dotenv\n",
    "import os\n",
    "from langchain_openai import ChatOpenAI"
   ]
  },
  {
   "cell_type": "code",
   "execution_count": 47,
   "id": "1b71ab37",
   "metadata": {},
   "outputs": [],
   "source": [
    "from langgraph.graph import StateGraph\n",
    "from IPython.display import Image, display\n",
    "import operator\n",
    "from typing import TypedDict, Annotated, Sequence\n",
    "from langchain_core.messages import BaseMessage\n",
    "from langgraph.graph.message import add_messages\n",
    "from langchain_core.messages import HumanMessage, AIMessage, SystemMessage"
   ]
  },
  {
   "cell_type": "code",
   "execution_count": 48,
   "id": "2ca8b6bf",
   "metadata": {},
   "outputs": [],
   "source": [
    "class AgenticState(TypedDict):\n",
    "    messages: Annotated[Sequence[BaseMessage], add_messages]"
   ]
  },
  {
   "cell_type": "code",
   "execution_count": 49,
   "id": "cbac8808",
   "metadata": {},
   "outputs": [],
   "source": [
    "def function1(state: AgenticState):\n",
    "    return {\"messages\": state[\"messages\"] + [AIMessage(content=\"Function 1 executed\")]}"
   ]
  },
  {
   "cell_type": "code",
   "execution_count": 50,
   "id": "1cfd9d6b",
   "metadata": {},
   "outputs": [],
   "source": [
    "def function2(state: AgenticState):\n",
    "    return {\"messages\": state[\"messages\"] + [AIMessage(content=\"Function 2 executed\")]}"
   ]
  },
  {
   "cell_type": "code",
   "execution_count": 51,
   "id": "cb925736",
   "metadata": {},
   "outputs": [],
   "source": [
    "workflow = StateGraph(AgenticState)"
   ]
  },
  {
   "cell_type": "code",
   "execution_count": 52,
   "id": "a7d17d66",
   "metadata": {},
   "outputs": [
    {
     "data": {
      "text/plain": [
       "<langgraph.graph.state.StateGraph at 0x10c50b430>"
      ]
     },
     "execution_count": 52,
     "metadata": {},
     "output_type": "execute_result"
    }
   ],
   "source": [
    "workflow.add_node(\"func1\", function1)\n",
    "workflow.add_node(\"func2\", function2)"
   ]
  },
  {
   "cell_type": "code",
   "execution_count": 53,
   "id": "5274acae",
   "metadata": {},
   "outputs": [
    {
     "data": {
      "text/plain": [
       "<langgraph.graph.state.StateGraph at 0x10c50b430>"
      ]
     },
     "execution_count": 53,
     "metadata": {},
     "output_type": "execute_result"
    }
   ],
   "source": [
    "workflow.add_edge(\"func1\", \"func2\")\n",
    "workflow.set_entry_point(\"func1\")\n",
    "workflow.set_finish_point(\"func2\")"
   ]
  },
  {
   "cell_type": "code",
   "execution_count": 54,
   "id": "34873ec9",
   "metadata": {},
   "outputs": [],
   "source": [
    "app = workflow.compile()"
   ]
  },
  {
   "cell_type": "code",
   "execution_count": 55,
   "id": "ad787a6e",
   "metadata": {},
   "outputs": [
    {
     "data": {
      "image/png": "[encoded data removed]",
      "text/plain": [
       "<IPython.core.display.Image object>"
      ]
     },
     "metadata": {},
     "output_type": "display_data"
    }
   ],
   "source": [
    "display(Image(app.get_graph().draw_mermaid_png()))"
   ]
  },
  {
   "cell_type": "code",
   "execution_count": 56,
   "id": "a17853bf",
   "metadata": {},
   "outputs": [
    {
     "data": {
      "text/plain": [
       "{'messages': [HumanMessage(content='what is LLM Powered Autonomous Agents explain the planning and reflection and prompt engineering explain me in terms of agents and langchain?', additional_kwargs={}, response_metadata={}, id='aa73be53-b7a1-4100-abbf-fcc945414638'),\n",
       "  AIMessage(content='Function 1 executed', additional_kwargs={}, response_metadata={}, id='bdd941d7-605c-43d8-8035-1f49395390de'),\n",
       "  AIMessage(content='Function 2 executed', additional_kwargs={}, response_metadata={}, id='02932e32-2e72-4ebd-8b54-59b3a7c4464c')]}"
      ]
     },
     "execution_count": 56,
     "metadata": {},
     "output_type": "execute_result"
    }
   ],
   "source": [
    "# response = app.invoke({\"messages\": [\"What is the capital of France?\"]})\n",
    "# response = app.invoke(\"What is the capital of France?\")\n",
    "# response = app.invoke({\n",
    "#     \"messages\": [HumanMessage(content=\"What is the capital of France?\")]\n",
    "# })\n",
    "app.invoke({\"messages\":[\"what is LLM Powered Autonomous Agents explain the planning and reflection and prompt engineering explain me in terms of agents and langchain?\"]})"
   ]
  },
  {
   "cell_type": "code",
   "execution_count": 60,
   "id": "998ff7fe",
   "metadata": {},
   "outputs": [
    {
     "name": "stdout",
     "output_type": "stream",
     "text": [
      "here is output from func1\n",
      "_______\n",
      "{'messages': [HumanMessage(content='what is LLM Powered Autonomous Agents explain the planning and reflection and prompt engineering explain me in terms of agents and langchain?', additional_kwargs={}, response_metadata={}, id='29cdbda1-407d-483f-b735-86a43212874e'), AIMessage(content='Function 1 executed', additional_kwargs={}, response_metadata={}, id='f28c59eb-b089-4710-a393-584322e067bc')]}\n",
      "\n",
      "\n",
      "here is output from func2\n",
      "_______\n",
      "{'messages': [HumanMessage(content='what is LLM Powered Autonomous Agents explain the planning and reflection and prompt engineering explain me in terms of agents and langchain?', additional_kwargs={}, response_metadata={}, id='29cdbda1-407d-483f-b735-86a43212874e'), AIMessage(content='Function 1 executed', additional_kwargs={}, response_metadata={}, id='f28c59eb-b089-4710-a393-584322e067bc'), AIMessage(content='Function 2 executed', additional_kwargs={}, response_metadata={}, id='56ba519f-5a9e-4539-8197-1596325abad1')]}\n",
      "\n",
      "\n"
     ]
    }
   ],
   "source": [
    "for output in app.stream({\"messages\":[\"what is LLM Powered Autonomous Agents explain the planning and reflection and prompt engineering explain me in terms of agents and langchain?\"]}):\n",
    "    for key,value in output.items():\n",
    "        print(f\"here is output from {key}\")\n",
    "        print(\"_______\")\n",
    "        print(value)\n",
    "        print(\"\\n\")"
   ]
  }
 ],
 "metadata": {
  "kernelspec": {
   "display_name": "venv-3-10 (3.10.15)",
   "language": "python",
   "name": "python3"
  },
  "language_info": {
   "codemirror_mode": {
    "name": "ipython",
    "version": 3
   },
   "file_extension": ".py",
   "mimetype": "text/x-python",
   "name": "python",
   "nbconvert_exporter": "python",
   "pygments_lexer": "ipython3",
   "version": "3.10.15"
  }
 },
 "nbformat": 4,
 "nbformat_minor": 5
}
