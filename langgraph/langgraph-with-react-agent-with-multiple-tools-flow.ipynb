{
 "cells": [
  {
   "cell_type": "code",
   "execution_count": 25,
   "id": "e00e560b",
   "metadata": {},
   "outputs": [],
   "source": [
    "import os\n",
    "from dotenv import load_dotenv\n",
    "from langchain_openai import ChatOpenAI\n",
    "from langchain_groq import ChatGroq\n",
    "from langchain.prompts import ChatPromptTemplate, BasePromptTemplate, PromptTemplate\n",
    "from langchain_core.output_parsers import StrOutputParser, JsonOutputParser\n",
    "from langchain.output_parsers.xml import XMLOutputParser\n",
    "from pydantic import BaseModel, Field\n",
    "\n",
    "## Text Loaders and Splitters\n",
    "from langchain.document_loaders import PyPDFLoader, WebBaseLoader, TextLoader, JSONLoader, UnstructuredXMLLoader, ArxivLoader, WikipediaLoader\n",
    "from langchain.text_splitter import RecursiveCharacterTextSplitter, CharacterTextSplitter, RecursiveJsonSplitter\n",
    "from langchain_core.documents import Document\n",
    "import bs4\n",
    "import requests\n",
    "\n",
    "## Embeddings\n",
    "from langchain_openai import OpenAIEmbeddings\n",
    "from langchain_huggingface import HuggingFaceEmbeddings\n",
    "# from sklearn.metrics.pairwise import cosine_similarity, euclidean_distances\n",
    "# import faiss\n",
    "from langchain_community.vectorstores import FAISS, Chroma\n",
    "from langchain_community.docstore.in_memory import InMemoryDocstore\n",
    "from langchain_google_genai import ChatGoogleGenerativeAI\n",
    "from langchain import hub\n",
    "# import pprintr\n",
    "from langchain_core.runnables import RunnablePassthrough\n",
    "\n",
    "from langchain.agents import tool\n",
    "from langchain_community.tools import WikipediaQueryRun, YouTubeSearchTool\n",
    "from langchain_community.utilities import WikipediaAPIWrapper\n",
    "from langchain_community.tools.tavily_search import TavilySearchResults\n",
    "from langchain.tools import DuckDuckGoSearchRun\n",
    "\n",
    "\n",
    "from langgraph.graph import StateGraph, END, MessagesState, START\n",
    "from IPython.display import Image, display\n",
    "import operator\n",
    "from typing_extensions import TypedDict\n",
    "from typing import Annotated, Sequence\n",
    "# from typing import TypedDict, Annotated, Sequence\n",
    "from langchain_core.messages import BaseMessage\n",
    "from langgraph.graph.message import add_messages\n",
    "from langchain_core.messages import HumanMessage, AIMessage, SystemMessage\n",
    "\n",
    "from langgraph.prebuilt import ToolNode, tools_condition\n",
    "import yfinance as yf\n"
   ]
  },
  {
   "cell_type": "code",
   "execution_count": 12,
   "id": "29a4088a",
   "metadata": {},
   "outputs": [
    {
     "data": {
      "text/plain": [
       "True"
      ]
     },
     "execution_count": 12,
     "metadata": {},
     "output_type": "execute_result"
    }
   ],
   "source": [
    "load_dotenv()"
   ]
  },
  {
   "cell_type": "markdown",
   "id": "d577afb4",
   "metadata": {},
   "source": [
    "## Define Model"
   ]
  },
  {
   "cell_type": "code",
   "execution_count": 14,
   "id": "cb9f8f36",
   "metadata": {},
   "outputs": [],
   "source": [
    "model = ChatOpenAI(model=\"gpt-4o\", temperature=0.0, max_retries=3)"
   ]
  },
  {
   "cell_type": "code",
   "execution_count": 13,
   "id": "e5b7a19f",
   "metadata": {},
   "outputs": [
    {
     "data": {
      "text/plain": [
       "AIMessage(content=\"I'm just a computer program, so I don't have feelings, but I'm here to help you! How can I assist you today?\", additional_kwargs={'refusal': None}, response_metadata={'token_usage': {'completion_tokens': 26, 'prompt_tokens': 10, 'total_tokens': 36, 'completion_tokens_details': {'accepted_prediction_tokens': 0, 'audio_tokens': 0, 'reasoning_tokens': 0, 'rejected_prediction_tokens': 0}, 'prompt_tokens_details': {'audio_tokens': 0, 'cached_tokens': 0}}, 'model_name': 'gpt-4o-2024-08-06', 'system_fingerprint': 'fp_07871e2ad8', 'id': 'chatcmpl-C1ExHGwMdbNjlAUdeRvPIyAWJUKV1', 'service_tier': 'default', 'finish_reason': 'stop', 'logprobs': None}, id='run--c4b7ca5b-4ce4-48ea-b54c-e928ba86d2b6-0', usage_metadata={'input_tokens': 10, 'output_tokens': 26, 'total_tokens': 36, 'input_token_details': {'audio': 0, 'cache_read': 0}, 'output_token_details': {'audio': 0, 'reasoning': 0}})"
      ]
     },
     "execution_count": 13,
     "metadata": {},
     "output_type": "execute_result"
    }
   ],
   "source": [
    "model.invoke(\"how are you\")"
   ]
  },
  {
   "cell_type": "markdown",
   "id": "9ece937b",
   "metadata": {},
   "source": [
    "## Define Custom Tools"
   ]
  },
  {
   "cell_type": "code",
   "execution_count": 15,
   "id": "6ea2a487",
   "metadata": {},
   "outputs": [],
   "source": [
    "@tool\n",
    "def multiply(x: int, y: int) -> int:\n",
    "    \"\"\"Multiplies two numbers.\"\"\"\n",
    "    return x * y\n",
    "\n",
    "@tool\n",
    "def add(x: int, y: int) -> int:\n",
    "    \"\"\"Adds two numbers.\"\"\"\n",
    "    return x + y\n",
    "\n",
    "@tool\n",
    "def divide(x: int, y: int) -> float:\n",
    "    \"\"\"Divides two numbers.\"\"\"\n",
    "    if y == 0:\n",
    "        raise ValueError(\"Cannot divide by zero.\")\n",
    "    return x / y\n",
    "\n",
    "@tool\n",
    "def get_stock_price(ticker:str)->str:\n",
    "    \"\"\"\n",
    "    Fetches the previous closing price of a given stock ticker from Yahoo Finance.\n",
    "\n",
    "    Args:\n",
    "        ticker (str): The stock ticker symbol (e.g., 'AAPL', 'TSLA', 'NIFTY.BO').\n",
    "\n",
    "    Returns:\n",
    "        str: A message with the stock's previous closing price.\n",
    "    \"\"\"\n",
    "    try:\n",
    "        stock = yf.Ticker(ticker)\n",
    "        price = stock.info.get('previousClose')\n",
    "        if price is None:\n",
    "            return f\"Could not fetch price for ticker '{ticker}'.\"\n",
    "        return f\"The last closing price of {ticker.upper()} was ${price:.2f}.\"\n",
    "    except Exception as e:\n",
    "        return f\"An error occurred while fetching stock data: {str(e)}\""
   ]
  },
  {
   "cell_type": "markdown",
   "id": "5668ab30",
   "metadata": {},
   "source": [
    "## Define Inbuilt tools"
   ]
  },
  {
   "cell_type": "code",
   "execution_count": 16,
   "id": "e83dcd50",
   "metadata": {},
   "outputs": [],
   "source": [
    "search_tool = DuckDuckGoSearchRun()"
   ]
  },
  {
   "cell_type": "markdown",
   "id": "a2334293",
   "metadata": {},
   "source": [
    "## Define Nodes"
   ]
  },
  {
   "cell_type": "code",
   "execution_count": 17,
   "id": "d45e67e0",
   "metadata": {},
   "outputs": [],
   "source": [
    "tools = [multiply, add, divide, get_stock_price, search_tool]"
   ]
  },
  {
   "cell_type": "code",
   "execution_count": 22,
   "id": "1e03bfcd",
   "metadata": {},
   "outputs": [],
   "source": [
    "llm_with_tools = model.bind_tools(tools)"
   ]
  },
  {
   "cell_type": "code",
   "execution_count": 18,
   "id": "2cdc21d6",
   "metadata": {},
   "outputs": [],
   "source": [
    "tool_node = ToolNode(tools=tools)"
   ]
  },
  {
   "cell_type": "code",
   "execution_count": 23,
   "id": "0d1883de",
   "metadata": {},
   "outputs": [],
   "source": [
    "SYSTEM_PROMPT = \"\"\"You are a helpful assistant. You can perform calculations, fetch stock prices, and search the web for information.\"\"\"\n",
    "\n",
    "def supervisor(state: MessagesState) -> MessagesState:\n",
    "    user_question = state[\"messages\"]\n",
    "\n",
    "    question = [SYSTEM_PROMPT] + user_question\n",
    "\n",
    "    print(\"Question:\", question)\n",
    "\n",
    "    response = llm_with_tools.invoke(question)\n",
    "\n",
    "    return {\"messages\": [response]}\n"
   ]
  },
  {
   "cell_type": "markdown",
   "id": "cf1ed6f1",
   "metadata": {},
   "source": [
    "## Define Workflow"
   ]
  },
  {
   "cell_type": "code",
   "execution_count": 27,
   "id": "f5f45eff",
   "metadata": {},
   "outputs": [
    {
     "data": {
      "text/plain": [
       "<langgraph.graph.state.StateGraph at 0x12259ccd0>"
      ]
     },
     "execution_count": 27,
     "metadata": {},
     "output_type": "execute_result"
    }
   ],
   "source": [
    "workflow = StateGraph(MessagesState)\n",
    "\n",
    "workflow.add_node(\"supervisor\", supervisor)\n",
    "workflow.add_node(\"tools\", tool_node)\n",
    "\n",
    "workflow.add_edge(START, \"supervisor\")\n",
    "workflow.add_conditional_edges(\"supervisor\", tools_condition)\n",
    "\n",
    "workflow.add_edge(\"tools\", \"supervisor\")"
   ]
  },
  {
   "cell_type": "code",
   "execution_count": 28,
   "id": "d5c0e8c2",
   "metadata": {},
   "outputs": [],
   "source": [
    "react_graph = workflow.compile()"
   ]
  },
  {
   "cell_type": "code",
   "execution_count": 29,
   "id": "079e9e99",
   "metadata": {},
   "outputs": [
    {
     "data": {
      "image/png": "[encoded data removed]",
      "text/plain": [
       "<IPython.core.display.Image object>"
      ]
     },
     "metadata": {},
     "output_type": "display_data"
    }
   ],
   "source": [
    "app = workflow.compile()\n",
    "display(Image(react_graph.get_graph().draw_mermaid_png()))"
   ]
  },
  {
   "cell_type": "code",
   "execution_count": 30,
   "id": "70ebf27d",
   "metadata": {},
   "outputs": [],
   "source": [
    "message = [\"What is the speed of light in m/s and multiply it by 10?\"]"
   ]
  },
  {
   "cell_type": "code",
   "execution_count": 31,
   "id": "f6d3f45e",
   "metadata": {},
   "outputs": [
    {
     "name": "stdout",
     "output_type": "stream",
     "text": [
      "Question: ['You are a helpful assistant. You can perform calculations, fetch stock prices, and search the web for information.', HumanMessage(content='What is the speed of light in m/s and multiply it by 10?', additional_kwargs={}, response_metadata={}, id='2e7d3d1a-4b0e-40be-b9f0-ef633d99d220')]\n"
     ]
    }
   ],
   "source": [
    "response=react_graph.invoke({\"messages\":message})"
   ]
  },
  {
   "cell_type": "code",
   "execution_count": 32,
   "id": "7e48cdb3",
   "metadata": {},
   "outputs": [
    {
     "name": "stdout",
     "output_type": "stream",
     "text": [
      "================================\u001b[1m Human Message \u001b[0m=================================\n",
      "\n",
      "What is the speed of light in m/s and multiply it by 10?\n",
      "==================================\u001b[1m Ai Message \u001b[0m==================================\n",
      "\n",
      "The speed of light in a vacuum is approximately \\(299,792,458\\) meters per second (m/s). To multiply this by 10, we can perform the calculation:\n",
      "\n",
      "\\[ 299,792,458 \\times 10 = 2,997,924,580 \\]\n",
      "\n",
      "So, the result is \\(2,997,924,580\\) m/s.\n"
     ]
    }
   ],
   "source": [
    "for m in response[\"messages\"]:\n",
    "    m.pretty_print()"
   ]
  },
  {
   "cell_type": "code",
   "execution_count": 33,
   "id": "fe59822c",
   "metadata": {},
   "outputs": [],
   "source": [
    "message = [HumanMessage(content=\"What is the speed of light in m/s and multiply it by 10?\")]"
   ]
  },
  {
   "cell_type": "code",
   "execution_count": 34,
   "id": "a7a248e9",
   "metadata": {},
   "outputs": [
    {
     "name": "stdout",
     "output_type": "stream",
     "text": [
      "Question: ['You are a helpful assistant. You can perform calculations, fetch stock prices, and search the web for information.', HumanMessage(content='What is the speed of light in m/s and multiply it by 10?', additional_kwargs={}, response_metadata={}, id='8458b538-eb36-4791-a914-03b903ee8129')]\n"
     ]
    }
   ],
   "source": [
    "response=react_graph.invoke({\"messages\":message})"
   ]
  },
  {
   "cell_type": "code",
   "execution_count": 35,
   "id": "a1b65782",
   "metadata": {},
   "outputs": [
    {
     "name": "stdout",
     "output_type": "stream",
     "text": [
      "================================\u001b[1m Human Message \u001b[0m=================================\n",
      "\n",
      "What is the speed of light in m/s and multiply it by 10?\n",
      "==================================\u001b[1m Ai Message \u001b[0m==================================\n",
      "\n",
      "The speed of light in a vacuum is approximately \\(299,792,458\\) meters per second (m/s). To multiply it by 10, we can perform the calculation:\n",
      "\n",
      "\\[ 299,792,458 \\times 10 = 2,997,924,580 \\]\n",
      "\n",
      "So, the result is \\(2,997,924,580\\) m/s.\n"
     ]
    }
   ],
   "source": [
    "for m in response[\"messages\"]:\n",
    "    m.pretty_print()"
   ]
  },
  {
   "cell_type": "code",
   "execution_count": 36,
   "id": "a71b21ca",
   "metadata": {},
   "outputs": [
    {
     "name": "stdout",
     "output_type": "stream",
     "text": [
      "Question: ['You are a helpful assistant. You can perform calculations, fetch stock prices, and search the web for information.', HumanMessage(content='add 1000 in the current stock price of Apple.', additional_kwargs={}, response_metadata={}, id='2efbf534-c885-48d4-9cf8-aa7d14df46e8')]\n",
      "Question: ['You are a helpful assistant. You can perform calculations, fetch stock prices, and search the web for information.', HumanMessage(content='add 1000 in the current stock price of Apple.', additional_kwargs={}, response_metadata={}, id='2efbf534-c885-48d4-9cf8-aa7d14df46e8'), AIMessage(content='', additional_kwargs={'tool_calls': [{'id': 'call_FjZC3ikaZh6as0vjldi9isBc', 'function': {'arguments': '{\"ticker\":\"AAPL\"}', 'name': 'get_stock_price'}, 'type': 'function'}], 'refusal': None}, response_metadata={'token_usage': {'completion_tokens': 16, 'prompt_tokens': 251, 'total_tokens': 267, 'completion_tokens_details': {'accepted_prediction_tokens': 0, 'audio_tokens': 0, 'reasoning_tokens': 0, 'rejected_prediction_tokens': 0}, 'prompt_tokens_details': {'audio_tokens': 0, 'cached_tokens': 0}}, 'model_name': 'gpt-4o-2024-08-06', 'system_fingerprint': 'fp_07871e2ad8', 'id': 'chatcmpl-C1FBjGDJcZD0p1PtHOyAh99N3QokZ', 'service_tier': 'default', 'finish_reason': 'tool_calls', 'logprobs': None}, id='run--29103a07-f6c3-4c5b-808e-115cf24ef21d-0', tool_calls=[{'name': 'get_stock_price', 'args': {'ticker': 'AAPL'}, 'id': 'call_FjZC3ikaZh6as0vjldi9isBc', 'type': 'tool_call'}], usage_metadata={'input_tokens': 251, 'output_tokens': 16, 'total_tokens': 267, 'input_token_details': {'audio': 0, 'cache_read': 0}, 'output_token_details': {'audio': 0, 'reasoning': 0}}), ToolMessage(content='The last closing price of AAPL was $203.35.', name='get_stock_price', id='0efecd21-db0e-4e53-b16f-bca3a49fa103', tool_call_id='call_FjZC3ikaZh6as0vjldi9isBc')]\n",
      "Question: ['You are a helpful assistant. You can perform calculations, fetch stock prices, and search the web for information.', HumanMessage(content='add 1000 in the current stock price of Apple.', additional_kwargs={}, response_metadata={}, id='2efbf534-c885-48d4-9cf8-aa7d14df46e8'), AIMessage(content='', additional_kwargs={'tool_calls': [{'id': 'call_FjZC3ikaZh6as0vjldi9isBc', 'function': {'arguments': '{\"ticker\":\"AAPL\"}', 'name': 'get_stock_price'}, 'type': 'function'}], 'refusal': None}, response_metadata={'token_usage': {'completion_tokens': 16, 'prompt_tokens': 251, 'total_tokens': 267, 'completion_tokens_details': {'accepted_prediction_tokens': 0, 'audio_tokens': 0, 'reasoning_tokens': 0, 'rejected_prediction_tokens': 0}, 'prompt_tokens_details': {'audio_tokens': 0, 'cached_tokens': 0}}, 'model_name': 'gpt-4o-2024-08-06', 'system_fingerprint': 'fp_07871e2ad8', 'id': 'chatcmpl-C1FBjGDJcZD0p1PtHOyAh99N3QokZ', 'service_tier': 'default', 'finish_reason': 'tool_calls', 'logprobs': None}, id='run--29103a07-f6c3-4c5b-808e-115cf24ef21d-0', tool_calls=[{'name': 'get_stock_price', 'args': {'ticker': 'AAPL'}, 'id': 'call_FjZC3ikaZh6as0vjldi9isBc', 'type': 'tool_call'}], usage_metadata={'input_tokens': 251, 'output_tokens': 16, 'total_tokens': 267, 'input_token_details': {'audio': 0, 'cache_read': 0}, 'output_token_details': {'audio': 0, 'reasoning': 0}}), ToolMessage(content='The last closing price of AAPL was $203.35.', name='get_stock_price', id='0efecd21-db0e-4e53-b16f-bca3a49fa103', tool_call_id='call_FjZC3ikaZh6as0vjldi9isBc'), AIMessage(content='', additional_kwargs={'tool_calls': [{'id': 'call_z3y26U74GZCXwR9pWJZIHPP5', 'function': {'arguments': '{\"x\":203.35,\"y\":1000}', 'name': 'add'}, 'type': 'function'}], 'refusal': None}, response_metadata={'token_usage': {'completion_tokens': 20, 'prompt_tokens': 289, 'total_tokens': 309, 'completion_tokens_details': {'accepted_prediction_tokens': 0, 'audio_tokens': 0, 'reasoning_tokens': 0, 'rejected_prediction_tokens': 0}, 'prompt_tokens_details': {'audio_tokens': 0, 'cached_tokens': 0}}, 'model_name': 'gpt-4o-2024-08-06', 'system_fingerprint': 'fp_07871e2ad8', 'id': 'chatcmpl-C1FBmQ8xVDNZ1tdwcMjxT42KPzsJJ', 'service_tier': 'default', 'finish_reason': 'tool_calls', 'logprobs': None}, id='run--8d75138f-c9be-4804-8b85-91713cbfe8b1-0', tool_calls=[{'name': 'add', 'args': {'x': 203.35, 'y': 1000}, 'id': 'call_z3y26U74GZCXwR9pWJZIHPP5', 'type': 'tool_call'}], usage_metadata={'input_tokens': 289, 'output_tokens': 20, 'total_tokens': 309, 'input_token_details': {'audio': 0, 'cache_read': 0}, 'output_token_details': {'audio': 0, 'reasoning': 0}}), ToolMessage(content='Error: 1 validation error for add\\nx\\n  Input should be a valid integer, got a number with a fractional part [type=int_from_float, input_value=203.35, input_type=float]\\n    For further information visit https://errors.pydantic.dev/2.11/v/int_from_float\\n Please fix your mistakes.', name='add', id='50a434f8-a40d-4c8b-a6b9-48bb20e0ba31', tool_call_id='call_z3y26U74GZCXwR9pWJZIHPP5', status='error')]\n",
      "Question: ['You are a helpful assistant. You can perform calculations, fetch stock prices, and search the web for information.', HumanMessage(content='add 1000 in the current stock price of Apple.', additional_kwargs={}, response_metadata={}, id='2efbf534-c885-48d4-9cf8-aa7d14df46e8'), AIMessage(content='', additional_kwargs={'tool_calls': [{'id': 'call_FjZC3ikaZh6as0vjldi9isBc', 'function': {'arguments': '{\"ticker\":\"AAPL\"}', 'name': 'get_stock_price'}, 'type': 'function'}], 'refusal': None}, response_metadata={'token_usage': {'completion_tokens': 16, 'prompt_tokens': 251, 'total_tokens': 267, 'completion_tokens_details': {'accepted_prediction_tokens': 0, 'audio_tokens': 0, 'reasoning_tokens': 0, 'rejected_prediction_tokens': 0}, 'prompt_tokens_details': {'audio_tokens': 0, 'cached_tokens': 0}}, 'model_name': 'gpt-4o-2024-08-06', 'system_fingerprint': 'fp_07871e2ad8', 'id': 'chatcmpl-C1FBjGDJcZD0p1PtHOyAh99N3QokZ', 'service_tier': 'default', 'finish_reason': 'tool_calls', 'logprobs': None}, id='run--29103a07-f6c3-4c5b-808e-115cf24ef21d-0', tool_calls=[{'name': 'get_stock_price', 'args': {'ticker': 'AAPL'}, 'id': 'call_FjZC3ikaZh6as0vjldi9isBc', 'type': 'tool_call'}], usage_metadata={'input_tokens': 251, 'output_tokens': 16, 'total_tokens': 267, 'input_token_details': {'audio': 0, 'cache_read': 0}, 'output_token_details': {'audio': 0, 'reasoning': 0}}), ToolMessage(content='The last closing price of AAPL was $203.35.', name='get_stock_price', id='0efecd21-db0e-4e53-b16f-bca3a49fa103', tool_call_id='call_FjZC3ikaZh6as0vjldi9isBc'), AIMessage(content='', additional_kwargs={'tool_calls': [{'id': 'call_z3y26U74GZCXwR9pWJZIHPP5', 'function': {'arguments': '{\"x\":203.35,\"y\":1000}', 'name': 'add'}, 'type': 'function'}], 'refusal': None}, response_metadata={'token_usage': {'completion_tokens': 20, 'prompt_tokens': 289, 'total_tokens': 309, 'completion_tokens_details': {'accepted_prediction_tokens': 0, 'audio_tokens': 0, 'reasoning_tokens': 0, 'rejected_prediction_tokens': 0}, 'prompt_tokens_details': {'audio_tokens': 0, 'cached_tokens': 0}}, 'model_name': 'gpt-4o-2024-08-06', 'system_fingerprint': 'fp_07871e2ad8', 'id': 'chatcmpl-C1FBmQ8xVDNZ1tdwcMjxT42KPzsJJ', 'service_tier': 'default', 'finish_reason': 'tool_calls', 'logprobs': None}, id='run--8d75138f-c9be-4804-8b85-91713cbfe8b1-0', tool_calls=[{'name': 'add', 'args': {'x': 203.35, 'y': 1000}, 'id': 'call_z3y26U74GZCXwR9pWJZIHPP5', 'type': 'tool_call'}], usage_metadata={'input_tokens': 289, 'output_tokens': 20, 'total_tokens': 309, 'input_token_details': {'audio': 0, 'cache_read': 0}, 'output_token_details': {'audio': 0, 'reasoning': 0}}), ToolMessage(content='Error: 1 validation error for add\\nx\\n  Input should be a valid integer, got a number with a fractional part [type=int_from_float, input_value=203.35, input_type=float]\\n    For further information visit https://errors.pydantic.dev/2.11/v/int_from_float\\n Please fix your mistakes.', name='add', id='50a434f8-a40d-4c8b-a6b9-48bb20e0ba31', tool_call_id='call_z3y26U74GZCXwR9pWJZIHPP5', status='error'), AIMessage(content='', additional_kwargs={'tool_calls': [{'id': 'call_J0Hz9XcNriiYX3pK9CabLB31', 'function': {'arguments': '{\"x\":203,\"y\":1000}', 'name': 'add'}, 'type': 'function'}], 'refusal': None}, response_metadata={'token_usage': {'completion_tokens': 18, 'prompt_tokens': 385, 'total_tokens': 403, 'completion_tokens_details': {'accepted_prediction_tokens': 0, 'audio_tokens': 0, 'reasoning_tokens': 0, 'rejected_prediction_tokens': 0}, 'prompt_tokens_details': {'audio_tokens': 0, 'cached_tokens': 0}}, 'model_name': 'gpt-4o-2024-08-06', 'system_fingerprint': 'fp_07871e2ad8', 'id': 'chatcmpl-C1FBobJ1FWZp3vuq4Y2hP8gGVPal6', 'service_tier': 'default', 'finish_reason': 'tool_calls', 'logprobs': None}, id='run--5ccb63f1-a385-4c67-ab17-0062c0a2c49f-0', tool_calls=[{'name': 'add', 'args': {'x': 203, 'y': 1000}, 'id': 'call_J0Hz9XcNriiYX3pK9CabLB31', 'type': 'tool_call'}], usage_metadata={'input_tokens': 385, 'output_tokens': 18, 'total_tokens': 403, 'input_token_details': {'audio': 0, 'cache_read': 0}, 'output_token_details': {'audio': 0, 'reasoning': 0}}), ToolMessage(content='1203', name='add', id='2886268b-892f-4e2e-9c3e-1638bbb28741', tool_call_id='call_J0Hz9XcNriiYX3pK9CabLB31')]\n"
     ]
    }
   ],
   "source": [
    "messages = [HumanMessage(content=\"add 1000 in the current stock price of Apple.\")]\n",
    "messages = react_graph.invoke({\"messages\": messages})"
   ]
  },
  {
   "cell_type": "code",
   "execution_count": 37,
   "id": "a2269fe4",
   "metadata": {},
   "outputs": [
    {
     "name": "stdout",
     "output_type": "stream",
     "text": [
      "================================\u001b[1m Human Message \u001b[0m=================================\n",
      "\n",
      "add 1000 in the current stock price of Apple.\n",
      "==================================\u001b[1m Ai Message \u001b[0m==================================\n",
      "Tool Calls:\n",
      "  get_stock_price (call_FjZC3ikaZh6as0vjldi9isBc)\n",
      " Call ID: call_FjZC3ikaZh6as0vjldi9isBc\n",
      "  Args:\n",
      "    ticker: AAPL\n",
      "=================================\u001b[1m Tool Message \u001b[0m=================================\n",
      "Name: get_stock_price\n",
      "\n",
      "The last closing price of AAPL was $203.35.\n",
      "==================================\u001b[1m Ai Message \u001b[0m==================================\n",
      "Tool Calls:\n",
      "  add (call_z3y26U74GZCXwR9pWJZIHPP5)\n",
      " Call ID: call_z3y26U74GZCXwR9pWJZIHPP5\n",
      "  Args:\n",
      "    x: 203.35\n",
      "    y: 1000\n",
      "=================================\u001b[1m Tool Message \u001b[0m=================================\n",
      "Name: add\n",
      "\n",
      "Error: 1 validation error for add\n",
      "x\n",
      "  Input should be a valid integer, got a number with a fractional part [type=int_from_float, input_value=203.35, input_type=float]\n",
      "    For further information visit https://errors.pydantic.dev/2.11/v/int_from_float\n",
      " Please fix your mistakes.\n",
      "==================================\u001b[1m Ai Message \u001b[0m==================================\n",
      "Tool Calls:\n",
      "  add (call_J0Hz9XcNriiYX3pK9CabLB31)\n",
      " Call ID: call_J0Hz9XcNriiYX3pK9CabLB31\n",
      "  Args:\n",
      "    x: 203\n",
      "    y: 1000\n",
      "=================================\u001b[1m Tool Message \u001b[0m=================================\n",
      "Name: add\n",
      "\n",
      "1203\n",
      "==================================\u001b[1m Ai Message \u001b[0m==================================\n",
      "\n",
      "The current stock price of Apple (AAPL) is approximately $203.35. Adding 1000 to this price gives you $1203.35.\n"
     ]
    }
   ],
   "source": [
    "for m in messages['messages']:\n",
    "    m.pretty_print()"
   ]
  },
  {
   "cell_type": "code",
   "execution_count": 41,
   "id": "df0b012d",
   "metadata": {},
   "outputs": [
    {
     "name": "stdout",
     "output_type": "stream",
     "text": [
      "Question: ['You are a helpful assistant. You can perform calculations, fetch stock prices, and search the web for information.', HumanMessage(content='can you give me current stock price of Apple with the latest news of the Apple.', additional_kwargs={}, response_metadata={}, id='f99c333c-7889-41aa-922b-19e7306ef246')]\n"
     ]
    },
    {
     "name": "stderr",
     "output_type": "stream",
     "text": [
      "/Users/mac/Desktop/Agentic-AI/venv-3-10/lib/python3.10/site-packages/langchain_community/utilities/duckduckgo_search.py:63: RuntimeWarning: This package (`duckduckgo_search`) has been renamed to `ddgs`! Use `pip install ddgs` instead.\n",
      "  with DDGS() as ddgs:\n"
     ]
    },
    {
     "name": "stdout",
     "output_type": "stream",
     "text": [
      "Question: ['You are a helpful assistant. You can perform calculations, fetch stock prices, and search the web for information.', HumanMessage(content='can you give me current stock price of Apple with the latest news of the Apple.', additional_kwargs={}, response_metadata={}, id='f99c333c-7889-41aa-922b-19e7306ef246'), AIMessage(content='', additional_kwargs={'tool_calls': [{'id': 'call_1YXIy6po43jNGCPaB9ZGs4m2', 'function': {'arguments': '{\"ticker\": \"AAPL\"}', 'name': 'get_stock_price'}, 'type': 'function'}, {'id': 'call_DVponKkPf2F707tvAlheKOsG', 'function': {'arguments': '{\"query\": \"Apple latest news\"}', 'name': 'duckduckgo_search'}, 'type': 'function'}], 'refusal': None}, response_metadata={'token_usage': {'completion_tokens': 51, 'prompt_tokens': 256, 'total_tokens': 307, 'completion_tokens_details': {'accepted_prediction_tokens': 0, 'audio_tokens': 0, 'reasoning_tokens': 0, 'rejected_prediction_tokens': 0}, 'prompt_tokens_details': {'audio_tokens': 0, 'cached_tokens': 0}}, 'model_name': 'gpt-4o-2024-08-06', 'system_fingerprint': 'fp_ff25b2783a', 'id': 'chatcmpl-C1FD2QxijdGtAa26AqhiQLDYWcZbV', 'service_tier': 'default', 'finish_reason': 'tool_calls', 'logprobs': None}, id='run--69ee11ea-2b05-4351-835c-867b5ebefc22-0', tool_calls=[{'name': 'get_stock_price', 'args': {'ticker': 'AAPL'}, 'id': 'call_1YXIy6po43jNGCPaB9ZGs4m2', 'type': 'tool_call'}, {'name': 'duckduckgo_search', 'args': {'query': 'Apple latest news'}, 'id': 'call_DVponKkPf2F707tvAlheKOsG', 'type': 'tool_call'}], usage_metadata={'input_tokens': 256, 'output_tokens': 51, 'total_tokens': 307, 'input_token_details': {'audio': 0, 'cache_read': 0}, 'output_token_details': {'audio': 0, 'reasoning': 0}}), ToolMessage(content='The last closing price of AAPL was $203.35.', name='get_stock_price', id='5f83d8cd-2eb7-40e0-be83-93aef0007cf0', tool_call_id='call_1YXIy6po43jNGCPaB9ZGs4m2'), ToolMessage(content='The official source for news about Apple, from Apple. Read press releases, get updates, watch video and download images. Apple Newsroom is the source for news about Apple. Read press releases, get updates, watch video and download images. 5 days ago · Find news about Apple Company News in the Apple Newsroom archive. Access press releases, updates, photos, videos and more. Feb 19, 2025 · Apple today announced iPhone 16e, a new addition to the iPhone 16 lineup that offers powerful capabilities at a more affordable price. Jun 9, 2025 · Get official iPhone news from the Apple Newsroom archive. Access iPhone press releases, updates, photos, videos, and more.', name='duckduckgo_search', id='64ba6fd1-4974-4322-a3ab-9fc5479d6bc1', tool_call_id='call_DVponKkPf2F707tvAlheKOsG')]\n"
     ]
    }
   ],
   "source": [
    "messages = [HumanMessage(content=\"can you give me current stock price of Apple with the latest news of the Apple.\")]\n",
    "messages = react_graph.invoke({\"messages\": messages})"
   ]
  },
  {
   "cell_type": "code",
   "execution_count": 42,
   "id": "1cb002ad",
   "metadata": {},
   "outputs": [
    {
     "name": "stdout",
     "output_type": "stream",
     "text": [
      "================================\u001b[1m Human Message \u001b[0m=================================\n",
      "\n",
      "can you give me current stock price of Apple with the latest news of the Apple.\n",
      "==================================\u001b[1m Ai Message \u001b[0m==================================\n",
      "Tool Calls:\n",
      "  get_stock_price (call_1YXIy6po43jNGCPaB9ZGs4m2)\n",
      " Call ID: call_1YXIy6po43jNGCPaB9ZGs4m2\n",
      "  Args:\n",
      "    ticker: AAPL\n",
      "  duckduckgo_search (call_DVponKkPf2F707tvAlheKOsG)\n",
      " Call ID: call_DVponKkPf2F707tvAlheKOsG\n",
      "  Args:\n",
      "    query: Apple latest news\n",
      "=================================\u001b[1m Tool Message \u001b[0m=================================\n",
      "Name: get_stock_price\n",
      "\n",
      "The last closing price of AAPL was $203.35.\n",
      "=================================\u001b[1m Tool Message \u001b[0m=================================\n",
      "Name: duckduckgo_search\n",
      "\n",
      "The official source for news about Apple, from Apple. Read press releases, get updates, watch video and download images. Apple Newsroom is the source for news about Apple. Read press releases, get updates, watch video and download images. 5 days ago · Find news about Apple Company News in the Apple Newsroom archive. Access press releases, updates, photos, videos and more. Feb 19, 2025 · Apple today announced iPhone 16e, a new addition to the iPhone 16 lineup that offers powerful capabilities at a more affordable price. Jun 9, 2025 · Get official iPhone news from the Apple Newsroom archive. Access iPhone press releases, updates, photos, videos, and more.\n",
      "==================================\u001b[1m Ai Message \u001b[0m==================================\n",
      "\n",
      "The last closing price of Apple (AAPL) was $203.35.\n",
      "\n",
      "As for the latest news about Apple, here are some highlights:\n",
      "\n",
      "- Apple Newsroom is the official source for news about Apple, where you can read press releases, get updates, watch videos, and download images.\n",
      "- Recently, Apple announced the iPhone 16e, a new addition to the iPhone 16 lineup, which offers powerful capabilities at a more affordable price.\n",
      "\n",
      "For more detailed and up-to-date news, you can visit the [Apple Newsroom](https://www.apple.com/newsroom/).\n"
     ]
    }
   ],
   "source": [
    "for m in messages['messages']:\n",
    "    m.pretty_print()"
   ]
  }
 ],
 "metadata": {
  "kernelspec": {
   "display_name": "venv-3-10 (3.10.15)",
   "language": "python",
   "name": "python3"
  },
  "language_info": {
   "codemirror_mode": {
    "name": "ipython",
    "version": 3
   },
   "file_extension": ".py",
   "mimetype": "text/x-python",
   "name": "python",
   "nbconvert_exporter": "python",
   "pygments_lexer": "ipython3",
   "version": "3.10.15"
  }
 },
 "nbformat": 4,
 "nbformat_minor": 5
}
